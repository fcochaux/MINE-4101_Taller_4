{
  "nbformat": 4,
  "nbformat_minor": 0,
  "metadata": {
    "colab": {
      "provenance": [],
      "toc_visible": true,
      "authorship_tag": "ABX9TyMDjjULiAgam24SpfgqaRR8",
      "include_colab_link": true
    },
    "kernelspec": {
      "name": "python3",
      "display_name": "Python 3"
    },
    "language_info": {
      "name": "python"
    }
  },
  "cells": [
    {
      "cell_type": "markdown",
      "metadata": {
        "id": "view-in-github",
        "colab_type": "text"
      },
      "source": [
        "<a href=\"https://colab.research.google.com/github/fcochaux/MINE-4101_Taller_4/blob/main/MINE_4101_Taller_4.ipynb\" target=\"_parent\"><img src=\"https://colab.research.google.com/assets/colab-badge.svg\" alt=\"Open In Colab\"/></a>"
      ]
    },
    {
      "cell_type": "markdown",
      "source": [
        "# Creación de Pipeline para la transformación, entrenamiento y predicción\n",
        "\n",
        "__Estudiantes:__\n",
        "\n",
        "Nicole Bahamón Martínez \\\n",
        "Francisco José Chaux Guzmán \\\n",
        "Iván Arturo Salazar"
      ],
      "metadata": {
        "id": "Gslu9XJQfrIz"
      }
    },
    {
      "cell_type": "markdown",
      "source": [
        "Enlace al repositorio:"
      ],
      "metadata": {
        "id": "5bjEXkt2hPLP"
      }
    },
    {
      "cell_type": "code",
      "source": [
        "!git clone \"https://github.com/fcochaux/MINE-4101_Taller_4.git\""
      ],
      "metadata": {
        "colab": {
          "base_uri": "https://localhost:8080/"
        },
        "id": "IcuffzQzhQ2_",
        "outputId": "72f93513-9347-4d24-9eb3-8bbcf03c328a"
      },
      "execution_count": 195,
      "outputs": [
        {
          "output_type": "stream",
          "name": "stdout",
          "text": [
            "fatal: destination path 'MINE-4101_Taller_4' already exists and is not an empty directory.\n"
          ]
        }
      ]
    },
    {
      "cell_type": "markdown",
      "source": [
        "Carga de librerías necesarias:"
      ],
      "metadata": {
        "id": "yHIWEbWXhYXH"
      }
    },
    {
      "cell_type": "code",
      "source": [
        "# procesamiento\n",
        "\n",
        "import numpy as np\n",
        "import pandas as pd\n",
        "\n",
        "# visualización\n",
        "\n",
        "import matplotlib.pyplot as plt\n",
        "import seaborn as sns\n",
        "\n",
        "# aprendizaje\n",
        "\n",
        "from sklearn.model_selection import train_test_split\n",
        "from sklearn import set_config\n",
        "from sklearn.preprocessing import StandardScaler, OneHotEncoder, MinMaxScaler, PolynomialFeatures\n",
        "from sklearn.impute import SimpleImputer\n",
        "from sklearn.pipeline import Pipeline\n",
        "from sklearn.compose import ColumnTransformer\n",
        "from sklearn.model_selection import GridSearchCV\n",
        "from sklearn.metrics import confusion_matrix, ConfusionMatrixDisplay, precision_score, recall_score, f1_score\n",
        "from sklearn.linear_model import LogisticRegression\n",
        "from sklearn.svm import SVC\n",
        "from sklearn.tree import DecisionTreeClassifier\n",
        "from sklearn.ensemble import RandomForestClassifier\n",
        "from sklearn.neural_network import MLPClassifier\n",
        "\n",
        "# otros\n",
        "\n",
        "import warnings"
      ],
      "metadata": {
        "id": "1lrXPcM2haL2"
      },
      "execution_count": 196,
      "outputs": []
    },
    {
      "cell_type": "markdown",
      "source": [
        "El siguiente código impide la generación de mensajes de advertencia:"
      ],
      "metadata": {
        "id": "O4dtuNEChV74"
      }
    },
    {
      "cell_type": "code",
      "source": [
        "warnings.filterwarnings('ignore')"
      ],
      "metadata": {
        "id": "Ie1L8X_UhX2O"
      },
      "execution_count": 197,
      "outputs": []
    },
    {
      "cell_type": "markdown",
      "source": [
        "El siguiente código permite una visualización de resultados más atractiva:"
      ],
      "metadata": {
        "id": "4sBHZJOy6eig"
      }
    },
    {
      "cell_type": "code",
      "source": [
        "set_config(display=\"diagram\")"
      ],
      "metadata": {
        "id": "ZIz_Fsam6d1C"
      },
      "execution_count": 198,
      "outputs": []
    },
    {
      "cell_type": "markdown",
      "source": [
        "## 1) Revisión del conjunto de datos y de las transformaciones que serán necesarias\n",
        "\n",
        "Lectura del conjunto de datos:"
      ],
      "metadata": {
        "id": "tJifLkQMhIbh"
      }
    },
    {
      "cell_type": "code",
      "source": [
        "# lectura del conjunto de datos\n",
        "df = pd.read_json('/content/MINE-4101_Taller_4/datos/DataSet_Entrenamiento_v1.json')\n",
        "# convierte nombres a minúsculas\n",
        "df.columns = df.columns.str.lower()\n",
        "# revisa 5 casos al azar\n",
        "df.sample(5)"
      ],
      "metadata": {
        "colab": {
          "base_uri": "https://localhost:8080/",
          "height": 386
        },
        "id": "ixBLpxVKiQ10",
        "outputId": "b8a0da43-abcd-4a21-80b9-42349b34e260"
      },
      "execution_count": 199,
      "outputs": [
        {
          "output_type": "execute_result",
          "data": {
            "text/plain": [
              "      customerid  gender  seniorcitizen partner dependents  tenure  \\\n",
              "5008  1089-XZWHH  Female              0     Yes        Yes      24   \n",
              "1809  4365-MSDYN    Male              0     Yes         No       8   \n",
              "1786  5970-GHJAW    Male              0     Yes        Yes      46   \n",
              "3057  1353-GHZOS    Male              0     Yes         No      22   \n",
              "5896  2452-MRMZF  Female              1     Yes         No      72   \n",
              "\n",
              "     phoneservice multiplelines internetservice       onlinesecurity  ...  \\\n",
              "5008          Yes            No              No  No internet service  ...   \n",
              "1809          Yes            No              No  No internet service  ...   \n",
              "1786          Yes            No              No  No internet service  ...   \n",
              "3057          Yes            No             DSL                  Yes  ...   \n",
              "5896          Yes           Yes              No  No internet service  ...   \n",
              "\n",
              "         deviceprotection          techsupport          streamingtv  \\\n",
              "5008  No internet service  No internet service  No internet service   \n",
              "1809  No internet service  No internet service  No internet service   \n",
              "1786  No internet service  No internet service  No internet service   \n",
              "3057                   No                   No                  Yes   \n",
              "5896  No internet service  No internet service  No internet service   \n",
              "\n",
              "          streamingmovies        contract paperlessbilling  \\\n",
              "5008  No internet service        Two year              Yes   \n",
              "1809  No internet service  Month-to-month              Yes   \n",
              "1786  No internet service        Two year               No   \n",
              "3057                   No        One year              Yes   \n",
              "5896  No internet service        Two year              Yes   \n",
              "\n",
              "                  paymentmethod monthlycharges  totalcharges churn  \n",
              "5008               Mailed check          19.70        494.05    No  \n",
              "1809  Bank transfer (automatic)          19.55        161.15    No  \n",
              "1786    Credit card (automatic)          19.95         862.4    No  \n",
              "3057  Bank transfer (automatic)          59.75       1374.35    No  \n",
              "5896    Credit card (automatic)          25.70        1937.4    No  \n",
              "\n",
              "[5 rows x 21 columns]"
            ],
            "text/html": [
              "\n",
              "  <div id=\"df-85c4cd32-d5d1-4157-847e-2d9c78f4d184\">\n",
              "    <div class=\"colab-df-container\">\n",
              "      <div>\n",
              "<style scoped>\n",
              "    .dataframe tbody tr th:only-of-type {\n",
              "        vertical-align: middle;\n",
              "    }\n",
              "\n",
              "    .dataframe tbody tr th {\n",
              "        vertical-align: top;\n",
              "    }\n",
              "\n",
              "    .dataframe thead th {\n",
              "        text-align: right;\n",
              "    }\n",
              "</style>\n",
              "<table border=\"1\" class=\"dataframe\">\n",
              "  <thead>\n",
              "    <tr style=\"text-align: right;\">\n",
              "      <th></th>\n",
              "      <th>customerid</th>\n",
              "      <th>gender</th>\n",
              "      <th>seniorcitizen</th>\n",
              "      <th>partner</th>\n",
              "      <th>dependents</th>\n",
              "      <th>tenure</th>\n",
              "      <th>phoneservice</th>\n",
              "      <th>multiplelines</th>\n",
              "      <th>internetservice</th>\n",
              "      <th>onlinesecurity</th>\n",
              "      <th>...</th>\n",
              "      <th>deviceprotection</th>\n",
              "      <th>techsupport</th>\n",
              "      <th>streamingtv</th>\n",
              "      <th>streamingmovies</th>\n",
              "      <th>contract</th>\n",
              "      <th>paperlessbilling</th>\n",
              "      <th>paymentmethod</th>\n",
              "      <th>monthlycharges</th>\n",
              "      <th>totalcharges</th>\n",
              "      <th>churn</th>\n",
              "    </tr>\n",
              "  </thead>\n",
              "  <tbody>\n",
              "    <tr>\n",
              "      <th>5008</th>\n",
              "      <td>1089-XZWHH</td>\n",
              "      <td>Female</td>\n",
              "      <td>0</td>\n",
              "      <td>Yes</td>\n",
              "      <td>Yes</td>\n",
              "      <td>24</td>\n",
              "      <td>Yes</td>\n",
              "      <td>No</td>\n",
              "      <td>No</td>\n",
              "      <td>No internet service</td>\n",
              "      <td>...</td>\n",
              "      <td>No internet service</td>\n",
              "      <td>No internet service</td>\n",
              "      <td>No internet service</td>\n",
              "      <td>No internet service</td>\n",
              "      <td>Two year</td>\n",
              "      <td>Yes</td>\n",
              "      <td>Mailed check</td>\n",
              "      <td>19.70</td>\n",
              "      <td>494.05</td>\n",
              "      <td>No</td>\n",
              "    </tr>\n",
              "    <tr>\n",
              "      <th>1809</th>\n",
              "      <td>4365-MSDYN</td>\n",
              "      <td>Male</td>\n",
              "      <td>0</td>\n",
              "      <td>Yes</td>\n",
              "      <td>No</td>\n",
              "      <td>8</td>\n",
              "      <td>Yes</td>\n",
              "      <td>No</td>\n",
              "      <td>No</td>\n",
              "      <td>No internet service</td>\n",
              "      <td>...</td>\n",
              "      <td>No internet service</td>\n",
              "      <td>No internet service</td>\n",
              "      <td>No internet service</td>\n",
              "      <td>No internet service</td>\n",
              "      <td>Month-to-month</td>\n",
              "      <td>Yes</td>\n",
              "      <td>Bank transfer (automatic)</td>\n",
              "      <td>19.55</td>\n",
              "      <td>161.15</td>\n",
              "      <td>No</td>\n",
              "    </tr>\n",
              "    <tr>\n",
              "      <th>1786</th>\n",
              "      <td>5970-GHJAW</td>\n",
              "      <td>Male</td>\n",
              "      <td>0</td>\n",
              "      <td>Yes</td>\n",
              "      <td>Yes</td>\n",
              "      <td>46</td>\n",
              "      <td>Yes</td>\n",
              "      <td>No</td>\n",
              "      <td>No</td>\n",
              "      <td>No internet service</td>\n",
              "      <td>...</td>\n",
              "      <td>No internet service</td>\n",
              "      <td>No internet service</td>\n",
              "      <td>No internet service</td>\n",
              "      <td>No internet service</td>\n",
              "      <td>Two year</td>\n",
              "      <td>No</td>\n",
              "      <td>Credit card (automatic)</td>\n",
              "      <td>19.95</td>\n",
              "      <td>862.4</td>\n",
              "      <td>No</td>\n",
              "    </tr>\n",
              "    <tr>\n",
              "      <th>3057</th>\n",
              "      <td>1353-GHZOS</td>\n",
              "      <td>Male</td>\n",
              "      <td>0</td>\n",
              "      <td>Yes</td>\n",
              "      <td>No</td>\n",
              "      <td>22</td>\n",
              "      <td>Yes</td>\n",
              "      <td>No</td>\n",
              "      <td>DSL</td>\n",
              "      <td>Yes</td>\n",
              "      <td>...</td>\n",
              "      <td>No</td>\n",
              "      <td>No</td>\n",
              "      <td>Yes</td>\n",
              "      <td>No</td>\n",
              "      <td>One year</td>\n",
              "      <td>Yes</td>\n",
              "      <td>Bank transfer (automatic)</td>\n",
              "      <td>59.75</td>\n",
              "      <td>1374.35</td>\n",
              "      <td>No</td>\n",
              "    </tr>\n",
              "    <tr>\n",
              "      <th>5896</th>\n",
              "      <td>2452-MRMZF</td>\n",
              "      <td>Female</td>\n",
              "      <td>1</td>\n",
              "      <td>Yes</td>\n",
              "      <td>No</td>\n",
              "      <td>72</td>\n",
              "      <td>Yes</td>\n",
              "      <td>Yes</td>\n",
              "      <td>No</td>\n",
              "      <td>No internet service</td>\n",
              "      <td>...</td>\n",
              "      <td>No internet service</td>\n",
              "      <td>No internet service</td>\n",
              "      <td>No internet service</td>\n",
              "      <td>No internet service</td>\n",
              "      <td>Two year</td>\n",
              "      <td>Yes</td>\n",
              "      <td>Credit card (automatic)</td>\n",
              "      <td>25.70</td>\n",
              "      <td>1937.4</td>\n",
              "      <td>No</td>\n",
              "    </tr>\n",
              "  </tbody>\n",
              "</table>\n",
              "<p>5 rows × 21 columns</p>\n",
              "</div>\n",
              "      <button class=\"colab-df-convert\" onclick=\"convertToInteractive('df-85c4cd32-d5d1-4157-847e-2d9c78f4d184')\"\n",
              "              title=\"Convert this dataframe to an interactive table.\"\n",
              "              style=\"display:none;\">\n",
              "        \n",
              "  <svg xmlns=\"http://www.w3.org/2000/svg\" height=\"24px\"viewBox=\"0 0 24 24\"\n",
              "       width=\"24px\">\n",
              "    <path d=\"M0 0h24v24H0V0z\" fill=\"none\"/>\n",
              "    <path d=\"M18.56 5.44l.94 2.06.94-2.06 2.06-.94-2.06-.94-.94-2.06-.94 2.06-2.06.94zm-11 1L8.5 8.5l.94-2.06 2.06-.94-2.06-.94L8.5 2.5l-.94 2.06-2.06.94zm10 10l.94 2.06.94-2.06 2.06-.94-2.06-.94-.94-2.06-.94 2.06-2.06.94z\"/><path d=\"M17.41 7.96l-1.37-1.37c-.4-.4-.92-.59-1.43-.59-.52 0-1.04.2-1.43.59L10.3 9.45l-7.72 7.72c-.78.78-.78 2.05 0 2.83L4 21.41c.39.39.9.59 1.41.59.51 0 1.02-.2 1.41-.59l7.78-7.78 2.81-2.81c.8-.78.8-2.07 0-2.86zM5.41 20L4 18.59l7.72-7.72 1.47 1.35L5.41 20z\"/>\n",
              "  </svg>\n",
              "      </button>\n",
              "      \n",
              "  <style>\n",
              "    .colab-df-container {\n",
              "      display:flex;\n",
              "      flex-wrap:wrap;\n",
              "      gap: 12px;\n",
              "    }\n",
              "\n",
              "    .colab-df-convert {\n",
              "      background-color: #E8F0FE;\n",
              "      border: none;\n",
              "      border-radius: 50%;\n",
              "      cursor: pointer;\n",
              "      display: none;\n",
              "      fill: #1967D2;\n",
              "      height: 32px;\n",
              "      padding: 0 0 0 0;\n",
              "      width: 32px;\n",
              "    }\n",
              "\n",
              "    .colab-df-convert:hover {\n",
              "      background-color: #E2EBFA;\n",
              "      box-shadow: 0px 1px 2px rgba(60, 64, 67, 0.3), 0px 1px 3px 1px rgba(60, 64, 67, 0.15);\n",
              "      fill: #174EA6;\n",
              "    }\n",
              "\n",
              "    [theme=dark] .colab-df-convert {\n",
              "      background-color: #3B4455;\n",
              "      fill: #D2E3FC;\n",
              "    }\n",
              "\n",
              "    [theme=dark] .colab-df-convert:hover {\n",
              "      background-color: #434B5C;\n",
              "      box-shadow: 0px 1px 3px 1px rgba(0, 0, 0, 0.15);\n",
              "      filter: drop-shadow(0px 1px 2px rgba(0, 0, 0, 0.3));\n",
              "      fill: #FFFFFF;\n",
              "    }\n",
              "  </style>\n",
              "\n",
              "      <script>\n",
              "        const buttonEl =\n",
              "          document.querySelector('#df-85c4cd32-d5d1-4157-847e-2d9c78f4d184 button.colab-df-convert');\n",
              "        buttonEl.style.display =\n",
              "          google.colab.kernel.accessAllowed ? 'block' : 'none';\n",
              "\n",
              "        async function convertToInteractive(key) {\n",
              "          const element = document.querySelector('#df-85c4cd32-d5d1-4157-847e-2d9c78f4d184');\n",
              "          const dataTable =\n",
              "            await google.colab.kernel.invokeFunction('convertToInteractive',\n",
              "                                                     [key], {});\n",
              "          if (!dataTable) return;\n",
              "\n",
              "          const docLinkHtml = 'Like what you see? Visit the ' +\n",
              "            '<a target=\"_blank\" href=https://colab.research.google.com/notebooks/data_table.ipynb>data table notebook</a>'\n",
              "            + ' to learn more about interactive tables.';\n",
              "          element.innerHTML = '';\n",
              "          dataTable['output_type'] = 'display_data';\n",
              "          await google.colab.output.renderOutput(dataTable, element);\n",
              "          const docLink = document.createElement('div');\n",
              "          docLink.innerHTML = docLinkHtml;\n",
              "          element.appendChild(docLink);\n",
              "        }\n",
              "      </script>\n",
              "    </div>\n",
              "  </div>\n",
              "  "
            ]
          },
          "metadata": {},
          "execution_count": 199
        }
      ]
    },
    {
      "cell_type": "markdown",
      "source": [
        "Características de la base:"
      ],
      "metadata": {
        "id": "YK2mUQQ3icnN"
      }
    },
    {
      "cell_type": "code",
      "source": [
        "df.info()"
      ],
      "metadata": {
        "colab": {
          "base_uri": "https://localhost:8080/"
        },
        "id": "MM0OpjjaiebY",
        "outputId": "7c8f320d-6efe-4b39-ae3b-2885f9ca9409"
      },
      "execution_count": 200,
      "outputs": [
        {
          "output_type": "stream",
          "name": "stdout",
          "text": [
            "<class 'pandas.core.frame.DataFrame'>\n",
            "RangeIndex: 6000 entries, 0 to 5999\n",
            "Data columns (total 21 columns):\n",
            " #   Column            Non-Null Count  Dtype  \n",
            "---  ------            --------------  -----  \n",
            " 0   customerid        6000 non-null   object \n",
            " 1   gender            6000 non-null   object \n",
            " 2   seniorcitizen     6000 non-null   int64  \n",
            " 3   partner           6000 non-null   object \n",
            " 4   dependents        6000 non-null   object \n",
            " 5   tenure            6000 non-null   int64  \n",
            " 6   phoneservice      6000 non-null   object \n",
            " 7   multiplelines     6000 non-null   object \n",
            " 8   internetservice   6000 non-null   object \n",
            " 9   onlinesecurity    6000 non-null   object \n",
            " 10  onlinebackup      6000 non-null   object \n",
            " 11  deviceprotection  6000 non-null   object \n",
            " 12  techsupport       6000 non-null   object \n",
            " 13  streamingtv       6000 non-null   object \n",
            " 14  streamingmovies   6000 non-null   object \n",
            " 15  contract          6000 non-null   object \n",
            " 16  paperlessbilling  6000 non-null   object \n",
            " 17  paymentmethod     6000 non-null   object \n",
            " 18  monthlycharges    6000 non-null   float64\n",
            " 19  totalcharges      6000 non-null   object \n",
            " 20  churn             6000 non-null   object \n",
            "dtypes: float64(1), int64(2), object(18)\n",
            "memory usage: 984.5+ KB\n"
          ]
        }
      ]
    },
    {
      "cell_type": "markdown",
      "source": [
        "Casi todas las variables son categóricas, con la excepción de `seniorcitizen`, `tenure` y `monthlycharges`. Sin embargo, la variable `totalcharges` está mal clasificada (esto se ve en la muestra de observaciones que se vio en la lectura), por lo que debe transformarse a numérica:"
      ],
      "metadata": {
        "id": "-eTO4d9mif1t"
      }
    },
    {
      "cell_type": "code",
      "source": [
        "df['totalcharges'] = pd.to_numeric(df['totalcharges'])\n",
        "df.info()"
      ],
      "metadata": {
        "colab": {
          "base_uri": "https://localhost:8080/"
        },
        "id": "iusbD62ui_3w",
        "outputId": "9ca72311-ace8-4aa6-f8d0-e2cfceb16ccd"
      },
      "execution_count": 201,
      "outputs": [
        {
          "output_type": "stream",
          "name": "stdout",
          "text": [
            "<class 'pandas.core.frame.DataFrame'>\n",
            "RangeIndex: 6000 entries, 0 to 5999\n",
            "Data columns (total 21 columns):\n",
            " #   Column            Non-Null Count  Dtype  \n",
            "---  ------            --------------  -----  \n",
            " 0   customerid        6000 non-null   object \n",
            " 1   gender            6000 non-null   object \n",
            " 2   seniorcitizen     6000 non-null   int64  \n",
            " 3   partner           6000 non-null   object \n",
            " 4   dependents        6000 non-null   object \n",
            " 5   tenure            6000 non-null   int64  \n",
            " 6   phoneservice      6000 non-null   object \n",
            " 7   multiplelines     6000 non-null   object \n",
            " 8   internetservice   6000 non-null   object \n",
            " 9   onlinesecurity    6000 non-null   object \n",
            " 10  onlinebackup      6000 non-null   object \n",
            " 11  deviceprotection  6000 non-null   object \n",
            " 12  techsupport       6000 non-null   object \n",
            " 13  streamingtv       6000 non-null   object \n",
            " 14  streamingmovies   6000 non-null   object \n",
            " 15  contract          6000 non-null   object \n",
            " 16  paperlessbilling  6000 non-null   object \n",
            " 17  paymentmethod     6000 non-null   object \n",
            " 18  monthlycharges    6000 non-null   float64\n",
            " 19  totalcharges      5990 non-null   float64\n",
            " 20  churn             6000 non-null   object \n",
            "dtypes: float64(2), int64(2), object(17)\n",
            "memory usage: 984.5+ KB\n"
          ]
        }
      ]
    },
    {
      "cell_type": "markdown",
      "source": [
        "Ahora la variable `totalcharges` tiene faltantes. Para saber como imputar, se revisa su histograma:"
      ],
      "metadata": {
        "id": "iF-nKVSk-zKD"
      }
    },
    {
      "cell_type": "code",
      "source": [
        "sns.histplot(df['totalcharges'])"
      ],
      "metadata": {
        "colab": {
          "base_uri": "https://localhost:8080/",
          "height": 297
        },
        "id": "vA3C4DMX_Dst",
        "outputId": "a5fed1c5-d144-480c-dad8-27b6d8434407"
      },
      "execution_count": 202,
      "outputs": [
        {
          "output_type": "execute_result",
          "data": {
            "text/plain": [
              "<matplotlib.axes._subplots.AxesSubplot at 0x7f4d2ce42fd0>"
            ]
          },
          "metadata": {},
          "execution_count": 202
        },
        {
          "output_type": "display_data",
          "data": {
            "text/plain": [
              "<Figure size 432x288 with 1 Axes>"
            ],
            "image/png": "[encoded data removed]"
          },
          "metadata": {
            "needs_background": "light"
          }
        }
      ]
    },
    {
      "cell_type": "markdown",
      "source": [
        "Debido a su distribución concentrada en valores bajos, se imputa por la mediana:"
      ],
      "metadata": {
        "id": "u6pRr3hK_Ush"
      }
    },
    {
      "cell_type": "code",
      "source": [
        "df['totalcharges']= df['totalcharges'].fillna(df['totalcharges'].mean())\n",
        "df.info()"
      ],
      "metadata": {
        "colab": {
          "base_uri": "https://localhost:8080/"
        },
        "id": "s0ROaLiV_h2R",
        "outputId": "c74c4c07-266c-4c81-b9ac-8db4b3583760"
      },
      "execution_count": 203,
      "outputs": [
        {
          "output_type": "stream",
          "name": "stdout",
          "text": [
            "<class 'pandas.core.frame.DataFrame'>\n",
            "RangeIndex: 6000 entries, 0 to 5999\n",
            "Data columns (total 21 columns):\n",
            " #   Column            Non-Null Count  Dtype  \n",
            "---  ------            --------------  -----  \n",
            " 0   customerid        6000 non-null   object \n",
            " 1   gender            6000 non-null   object \n",
            " 2   seniorcitizen     6000 non-null   int64  \n",
            " 3   partner           6000 non-null   object \n",
            " 4   dependents        6000 non-null   object \n",
            " 5   tenure            6000 non-null   int64  \n",
            " 6   phoneservice      6000 non-null   object \n",
            " 7   multiplelines     6000 non-null   object \n",
            " 8   internetservice   6000 non-null   object \n",
            " 9   onlinesecurity    6000 non-null   object \n",
            " 10  onlinebackup      6000 non-null   object \n",
            " 11  deviceprotection  6000 non-null   object \n",
            " 12  techsupport       6000 non-null   object \n",
            " 13  streamingtv       6000 non-null   object \n",
            " 14  streamingmovies   6000 non-null   object \n",
            " 15  contract          6000 non-null   object \n",
            " 16  paperlessbilling  6000 non-null   object \n",
            " 17  paymentmethod     6000 non-null   object \n",
            " 18  monthlycharges    6000 non-null   float64\n",
            " 19  totalcharges      6000 non-null   float64\n",
            " 20  churn             6000 non-null   object \n",
            "dtypes: float64(2), int64(2), object(17)\n",
            "memory usage: 984.5+ KB\n"
          ]
        }
      ]
    },
    {
      "cell_type": "markdown",
      "source": [
        "Histograma de variables numéricas:"
      ],
      "metadata": {
        "id": "ZxZ9OECijcIp"
      }
    },
    {
      "cell_type": "code",
      "source": [
        "figure, axis = plt.subplots(2, 2, figsize=(10, 10))\n",
        "fila = -1\n",
        "columna = -1\n",
        "for k in df.describe().columns:\n",
        "    columna = columna + 1\n",
        "    if columna == 2:\n",
        "        columna = 0\n",
        "    if columna == 0:\n",
        "        fila = fila + 1\n",
        "    if fila == 2:\n",
        "        fila = 0\n",
        "    sns.histplot(df[k], ax=axis[fila,columna])\n",
        "sns.despine(figure)"
      ],
      "metadata": {
        "colab": {
          "base_uri": "https://localhost:8080/",
          "height": 606
        },
        "id": "XTrf16SCjd7-",
        "outputId": "168d12b6-4453-460f-c3b9-6f37e288070a"
      },
      "execution_count": 205,
      "outputs": [
        {
          "output_type": "display_data",
          "data": {
            "text/plain": [
              "<Figure size 720x720 with 4 Axes>"
            ],
            "image/png": "[encoded data removed]"
          },
          "metadata": {
            "needs_background": "light"
          }
        }
      ]
    },
    {
      "cell_type": "markdown",
      "source": [
        "La variable `seniorcitizen` es binaria, no continua. Para las otras se revisa la presencia de valores atípicos:"
      ],
      "metadata": {
        "id": "5Tiz2IJQjjzf"
      }
    },
    {
      "cell_type": "code",
      "source": [
        "figure, axis = plt.subplots(1, 3, figsize=(20, 4))\n",
        "indice = -1\n",
        "for k in ['tenure','monthlycharges','totalcharges']:\n",
        "    indice = indice + 1\n",
        "    sns.boxplot(df[k], ax=axis[indice])\n",
        "sns.despine(figure)"
      ],
      "metadata": {
        "colab": {
          "base_uri": "https://localhost:8080/",
          "height": 186
        },
        "id": "wRPfWEgDj2N9",
        "outputId": "75ecfc4a-79ad-4e68-f4cd-1a8a31b3ab8f"
      },
      "execution_count": 206,
      "outputs": [
        {
          "output_type": "display_data",
          "data": {
            "text/plain": [
              "<Figure size 1440x288 with 3 Axes>"
            ],
            "image/png": "[encoded data removed]"
          },
          "metadata": {
            "needs_background": "light"
          }
        }
      ]
    },
    {
      "cell_type": "markdown",
      "source": [
        "No existen valores extremos. Se revisan también las variables categóricas:"
      ],
      "metadata": {
        "id": "K710tNizkBL3"
      }
    },
    {
      "cell_type": "code",
      "source": [
        "figure, axis = plt.subplots(6, 3, figsize=(30, 30))\n",
        "fila = -1\n",
        "columna = -1\n",
        "for k in df.select_dtypes(include=['object']).columns.drop('customerid'):\n",
        "    columna = columna + 1\n",
        "    if columna == 3:\n",
        "        columna = 0\n",
        "    if columna == 0:\n",
        "        fila = fila + 1\n",
        "    if fila == 6:\n",
        "        fila = 0\n",
        "    cuadro = df[[k]].groupby(k)[k] \\\n",
        "                    .count() \\\n",
        "                    .reset_index(name='cantidad')\n",
        "    sns.barplot(data = cuadro, y = k, x = 'cantidad', ax=axis[fila,columna])\n",
        "figure.delaxes(axis[5,1])\n",
        "figure.delaxes(axis[5,2])\n",
        "sns.despine(figure)"
      ],
      "metadata": {
        "colab": {
          "base_uri": "https://localhost:8080/",
          "height": 695
        },
        "id": "Lu1WjrHvkHiD",
        "outputId": "da8cd198-61d5-4010-d999-680e69f20d3f"
      },
      "execution_count": 207,
      "outputs": [
        {
          "output_type": "display_data",
          "data": {
            "text/plain": [
              "<Figure size 2160x2160 with 16 Axes>"
            ],
            "image/png": "[encoded data removed]"
          },
          "metadata": {
            "needs_background": "light"
          }
        }
      ]
    },
    {
      "cell_type": "markdown",
      "source": [
        "En este caso no parece haber ningún problema, por lo que pueden usarse todas las variables. Solo se hace la transformación a variable numéricas de acuerdo a las necesidades de los algoritmos:"
      ],
      "metadata": {
        "id": "DrequbATkKiF"
      }
    },
    {
      "cell_type": "code",
      "source": [
        "# convierte variable objetivo a numérica\n",
        "df['churn'] = np.where(df['churn'] == 'Yes', 1, 0)\n",
        "# aplicación de one hot encoder\n",
        "for k in df.select_dtypes(include=['object']).columns:\n",
        "    onehotencoder = OneHotEncoder()\n",
        "    var = onehotencoder.fit_transform(df[[k]])\n",
        "    df[onehotencoder.categories_[0]] = var.toarray()\n",
        "    del df[k]\n",
        "# muestra algunos registros\n",
        "df.sample(5)"
      ],
      "metadata": {
        "id": "T8iyZEgNkgWx",
        "colab": {
          "base_uri": "https://localhost:8080/",
          "height": 334
        },
        "outputId": "3ab44524-782b-4919-8315-585c00f312de"
      },
      "execution_count": 208,
      "outputs": [
        {
          "output_type": "execute_result",
          "data": {
            "text/plain": [
              "      seniorcitizen  tenure  monthlycharges  totalcharges  churn  0002-ORFBO  \\\n",
              "4370              0      53           69.70       3729.60      0         0.0   \n",
              "3254              0       1           24.00         24.00      0         0.0   \n",
              "1025              1       1           69.25         69.25      1         0.0   \n",
              "5193              0      67           84.80       5598.30      0         0.0   \n",
              "4978              0       5           74.65        383.65      0         0.0   \n",
              "\n",
              "      0003-MKNFE  0004-TLHLJ  0013-EXCHZ  0013-MHZWF  ...  DSL  Fiber optic  \\\n",
              "4370         0.0         0.0         0.0         0.0  ...  1.0          0.0   \n",
              "3254         0.0         0.0         0.0         0.0  ...  0.0          0.0   \n",
              "1025         0.0         0.0         0.0         0.0  ...  0.0          1.0   \n",
              "5193         0.0         0.0         0.0         0.0  ...  0.0          1.0   \n",
              "4978         0.0         0.0         0.0         0.0  ...  0.0          1.0   \n",
              "\n",
              "      No internet service  Month-to-month  One year  Two year  \\\n",
              "4370                  0.0             0.0       0.0       1.0   \n",
              "3254                  1.0             1.0       0.0       0.0   \n",
              "1025                  0.0             1.0       0.0       0.0   \n",
              "5193                  0.0             0.0       1.0       0.0   \n",
              "4978                  0.0             1.0       0.0       0.0   \n",
              "\n",
              "      Bank transfer (automatic)  Credit card (automatic)  Electronic check  \\\n",
              "4370                        0.0                      0.0               0.0   \n",
              "3254                        0.0                      0.0               0.0   \n",
              "1025                        0.0                      0.0               1.0   \n",
              "5193                        1.0                      0.0               0.0   \n",
              "4978                        0.0                      0.0               1.0   \n",
              "\n",
              "      Mailed check  \n",
              "4370           1.0  \n",
              "3254           1.0  \n",
              "1025           0.0  \n",
              "5193           0.0  \n",
              "4978           0.0  \n",
              "\n",
              "[5 rows x 6020 columns]"
            ],
            "text/html": [
              "\n",
              "  <div id=\"df-3b30e82c-700f-43d6-8d25-ff542b6b93ae\">\n",
              "    <div class=\"colab-df-container\">\n",
              "      <div>\n",
              "<style scoped>\n",
              "    .dataframe tbody tr th:only-of-type {\n",
              "        vertical-align: middle;\n",
              "    }\n",
              "\n",
              "    .dataframe tbody tr th {\n",
              "        vertical-align: top;\n",
              "    }\n",
              "\n",
              "    .dataframe thead th {\n",
              "        text-align: right;\n",
              "    }\n",
              "</style>\n",
              "<table border=\"1\" class=\"dataframe\">\n",
              "  <thead>\n",
              "    <tr style=\"text-align: right;\">\n",
              "      <th></th>\n",
              "      <th>seniorcitizen</th>\n",
              "      <th>tenure</th>\n",
              "      <th>monthlycharges</th>\n",
              "      <th>totalcharges</th>\n",
              "      <th>churn</th>\n",
              "      <th>0002-ORFBO</th>\n",
              "      <th>0003-MKNFE</th>\n",
              "      <th>0004-TLHLJ</th>\n",
              "      <th>0013-EXCHZ</th>\n",
              "      <th>0013-MHZWF</th>\n",
              "      <th>...</th>\n",
              "      <th>DSL</th>\n",
              "      <th>Fiber optic</th>\n",
              "      <th>No internet service</th>\n",
              "      <th>Month-to-month</th>\n",
              "      <th>One year</th>\n",
              "      <th>Two year</th>\n",
              "      <th>Bank transfer (automatic)</th>\n",
              "      <th>Credit card (automatic)</th>\n",
              "      <th>Electronic check</th>\n",
              "      <th>Mailed check</th>\n",
              "    </tr>\n",
              "  </thead>\n",
              "  <tbody>\n",
              "    <tr>\n",
              "      <th>4370</th>\n",
              "      <td>0</td>\n",
              "      <td>53</td>\n",
              "      <td>69.70</td>\n",
              "      <td>3729.60</td>\n",
              "      <td>0</td>\n",
              "      <td>0.0</td>\n",
              "      <td>0.0</td>\n",
              "      <td>0.0</td>\n",
              "      <td>0.0</td>\n",
              "      <td>0.0</td>\n",
              "      <td>...</td>\n",
              "      <td>1.0</td>\n",
              "      <td>0.0</td>\n",
              "      <td>0.0</td>\n",
              "      <td>0.0</td>\n",
              "      <td>0.0</td>\n",
              "      <td>1.0</td>\n",
              "      <td>0.0</td>\n",
              "      <td>0.0</td>\n",
              "      <td>0.0</td>\n",
              "      <td>1.0</td>\n",
              "    </tr>\n",
              "    <tr>\n",
              "      <th>3254</th>\n",
              "      <td>0</td>\n",
              "      <td>1</td>\n",
              "      <td>24.00</td>\n",
              "      <td>24.00</td>\n",
              "      <td>0</td>\n",
              "      <td>0.0</td>\n",
              "      <td>0.0</td>\n",
              "      <td>0.0</td>\n",
              "      <td>0.0</td>\n",
              "      <td>0.0</td>\n",
              "      <td>...</td>\n",
              "      <td>0.0</td>\n",
              "      <td>0.0</td>\n",
              "      <td>1.0</td>\n",
              "      <td>1.0</td>\n",
              "      <td>0.0</td>\n",
              "      <td>0.0</td>\n",
              "      <td>0.0</td>\n",
              "      <td>0.0</td>\n",
              "      <td>0.0</td>\n",
              "      <td>1.0</td>\n",
              "    </tr>\n",
              "    <tr>\n",
              "      <th>1025</th>\n",
              "      <td>1</td>\n",
              "      <td>1</td>\n",
              "      <td>69.25</td>\n",
              "      <td>69.25</td>\n",
              "      <td>1</td>\n",
              "      <td>0.0</td>\n",
              "      <td>0.0</td>\n",
              "      <td>0.0</td>\n",
              "      <td>0.0</td>\n",
              "      <td>0.0</td>\n",
              "      <td>...</td>\n",
              "      <td>0.0</td>\n",
              "      <td>1.0</td>\n",
              "      <td>0.0</td>\n",
              "      <td>1.0</td>\n",
              "      <td>0.0</td>\n",
              "      <td>0.0</td>\n",
              "      <td>0.0</td>\n",
              "      <td>0.0</td>\n",
              "      <td>1.0</td>\n",
              "      <td>0.0</td>\n",
              "    </tr>\n",
              "    <tr>\n",
              "      <th>5193</th>\n",
              "      <td>0</td>\n",
              "      <td>67</td>\n",
              "      <td>84.80</td>\n",
              "      <td>5598.30</td>\n",
              "      <td>0</td>\n",
              "      <td>0.0</td>\n",
              "      <td>0.0</td>\n",
              "      <td>0.0</td>\n",
              "      <td>0.0</td>\n",
              "      <td>0.0</td>\n",
              "      <td>...</td>\n",
              "      <td>0.0</td>\n",
              "      <td>1.0</td>\n",
              "      <td>0.0</td>\n",
              "      <td>0.0</td>\n",
              "      <td>1.0</td>\n",
              "      <td>0.0</td>\n",
              "      <td>1.0</td>\n",
              "      <td>0.0</td>\n",
              "      <td>0.0</td>\n",
              "      <td>0.0</td>\n",
              "    </tr>\n",
              "    <tr>\n",
              "      <th>4978</th>\n",
              "      <td>0</td>\n",
              "      <td>5</td>\n",
              "      <td>74.65</td>\n",
              "      <td>383.65</td>\n",
              "      <td>0</td>\n",
              "      <td>0.0</td>\n",
              "      <td>0.0</td>\n",
              "      <td>0.0</td>\n",
              "      <td>0.0</td>\n",
              "      <td>0.0</td>\n",
              "      <td>...</td>\n",
              "      <td>0.0</td>\n",
              "      <td>1.0</td>\n",
              "      <td>0.0</td>\n",
              "      <td>1.0</td>\n",
              "      <td>0.0</td>\n",
              "      <td>0.0</td>\n",
              "      <td>0.0</td>\n",
              "      <td>0.0</td>\n",
              "      <td>1.0</td>\n",
              "      <td>0.0</td>\n",
              "    </tr>\n",
              "  </tbody>\n",
              "</table>\n",
              "<p>5 rows × 6020 columns</p>\n",
              "</div>\n",
              "      <button class=\"colab-df-convert\" onclick=\"convertToInteractive('df-3b30e82c-700f-43d6-8d25-ff542b6b93ae')\"\n",
              "              title=\"Convert this dataframe to an interactive table.\"\n",
              "              style=\"display:none;\">\n",
              "        \n",
              "  <svg xmlns=\"http://www.w3.org/2000/svg\" height=\"24px\"viewBox=\"0 0 24 24\"\n",
              "       width=\"24px\">\n",
              "    <path d=\"M0 0h24v24H0V0z\" fill=\"none\"/>\n",
              "    <path d=\"M18.56 5.44l.94 2.06.94-2.06 2.06-.94-2.06-.94-.94-2.06-.94 2.06-2.06.94zm-11 1L8.5 8.5l.94-2.06 2.06-.94-2.06-.94L8.5 2.5l-.94 2.06-2.06.94zm10 10l.94 2.06.94-2.06 2.06-.94-2.06-.94-.94-2.06-.94 2.06-2.06.94z\"/><path d=\"M17.41 7.96l-1.37-1.37c-.4-.4-.92-.59-1.43-.59-.52 0-1.04.2-1.43.59L10.3 9.45l-7.72 7.72c-.78.78-.78 2.05 0 2.83L4 21.41c.39.39.9.59 1.41.59.51 0 1.02-.2 1.41-.59l7.78-7.78 2.81-2.81c.8-.78.8-2.07 0-2.86zM5.41 20L4 18.59l7.72-7.72 1.47 1.35L5.41 20z\"/>\n",
              "  </svg>\n",
              "      </button>\n",
              "      \n",
              "  <style>\n",
              "    .colab-df-container {\n",
              "      display:flex;\n",
              "      flex-wrap:wrap;\n",
              "      gap: 12px;\n",
              "    }\n",
              "\n",
              "    .colab-df-convert {\n",
              "      background-color: #E8F0FE;\n",
              "      border: none;\n",
              "      border-radius: 50%;\n",
              "      cursor: pointer;\n",
              "      display: none;\n",
              "      fill: #1967D2;\n",
              "      height: 32px;\n",
              "      padding: 0 0 0 0;\n",
              "      width: 32px;\n",
              "    }\n",
              "\n",
              "    .colab-df-convert:hover {\n",
              "      background-color: #E2EBFA;\n",
              "      box-shadow: 0px 1px 2px rgba(60, 64, 67, 0.3), 0px 1px 3px 1px rgba(60, 64, 67, 0.15);\n",
              "      fill: #174EA6;\n",
              "    }\n",
              "\n",
              "    [theme=dark] .colab-df-convert {\n",
              "      background-color: #3B4455;\n",
              "      fill: #D2E3FC;\n",
              "    }\n",
              "\n",
              "    [theme=dark] .colab-df-convert:hover {\n",
              "      background-color: #434B5C;\n",
              "      box-shadow: 0px 1px 3px 1px rgba(0, 0, 0, 0.15);\n",
              "      filter: drop-shadow(0px 1px 2px rgba(0, 0, 0, 0.3));\n",
              "      fill: #FFFFFF;\n",
              "    }\n",
              "  </style>\n",
              "\n",
              "      <script>\n",
              "        const buttonEl =\n",
              "          document.querySelector('#df-3b30e82c-700f-43d6-8d25-ff542b6b93ae button.colab-df-convert');\n",
              "        buttonEl.style.display =\n",
              "          google.colab.kernel.accessAllowed ? 'block' : 'none';\n",
              "\n",
              "        async function convertToInteractive(key) {\n",
              "          const element = document.querySelector('#df-3b30e82c-700f-43d6-8d25-ff542b6b93ae');\n",
              "          const dataTable =\n",
              "            await google.colab.kernel.invokeFunction('convertToInteractive',\n",
              "                                                     [key], {});\n",
              "          if (!dataTable) return;\n",
              "\n",
              "          const docLinkHtml = 'Like what you see? Visit the ' +\n",
              "            '<a target=\"_blank\" href=https://colab.research.google.com/notebooks/data_table.ipynb>data table notebook</a>'\n",
              "            + ' to learn more about interactive tables.';\n",
              "          element.innerHTML = '';\n",
              "          dataTable['output_type'] = 'display_data';\n",
              "          await google.colab.output.renderOutput(dataTable, element);\n",
              "          const docLink = document.createElement('div');\n",
              "          docLink.innerHTML = docLinkHtml;\n",
              "          element.appendChild(docLink);\n",
              "        }\n",
              "      </script>\n",
              "    </div>\n",
              "  </div>\n",
              "  "
            ]
          },
          "metadata": {},
          "execution_count": 208
        }
      ]
    },
    {
      "cell_type": "markdown",
      "source": [
        "En resumen, se aplicaron los siguientes tratamientos:\n",
        "\n",
        "- Corrección de variable `totalcharges`.\n",
        "- Imputación de variable `totalcharges`.\n",
        "- Conversión de variable objetivo a variable binaria.\n",
        "- Aplicación de one hot encoder\n",
        "\n",
        "En el Pipeline, lo ideal será incluir estas transformaciones para poder encapsular el proceso de limpieza de datos."
      ],
      "metadata": {
        "id": "Iay0whA2jOzx"
      }
    },
    {
      "cell_type": "markdown",
      "source": [
        "## 2) Construcción de Pipelines"
      ],
      "metadata": {
        "id": "XnssOnn5lBGL"
      }
    },
    {
      "cell_type": "markdown",
      "source": [
        "Lectura del conjunto de datos:"
      ],
      "metadata": {
        "id": "b-D6JtVQAZRI"
      }
    },
    {
      "cell_type": "code",
      "source": [
        "df = pd.read_json('/content/MINE-4101_Taller_4/datos/DataSet_Entrenamiento_v1.json')\n",
        "df.columns = df.columns.str.lower()"
      ],
      "metadata": {
        "id": "uMLsir0tAane"
      },
      "execution_count": 209,
      "outputs": []
    },
    {
      "cell_type": "markdown",
      "source": [
        "Separaciones:"
      ],
      "metadata": {
        "id": "4favuPZ47xjS"
      }
    },
    {
      "cell_type": "code",
      "source": [
        "objetivo = 'churn'\n",
        "identificador = 'customerid'\n",
        "caracteristicas = df.columns.drop(objetivo).drop(identificador)\n",
        "df['totalcharges'] = pd.to_numeric(df['totalcharges']) # corrige variable con mal formato\n",
        "numericas = df[caracteristicas].select_dtypes('number').columns\n",
        "#numericas = df[caracteristicas].select_dtypes('number').columns.append(pd.Index(['totalcharges']))\n",
        "categoricas = pd.Index(np.setdiff1d(caracteristicas, numericas))\n",
        "x_entrenamiento, x_prueba, y_entrenamiento, y_prueba = train_test_split(\n",
        "    df.drop(columns=[objetivo,identificador]), df[objetivo], test_size=.2, random_state=32234, stratify=df[objetivo]\n",
        "    )"
      ],
      "metadata": {
        "id": "t_4Iaddb7y9A"
      },
      "execution_count": 211,
      "outputs": []
    },
    {
      "cell_type": "markdown",
      "source": [
        "Construcción del pipeline de procesamiento:"
      ],
      "metadata": {
        "id": "UOWZR8Ui7eUI"
      }
    },
    {
      "cell_type": "code",
      "source": [
        "\"\"\"\n",
        "Acá falta incluir la conversión de la variable totalcharges a numérica, la cual\n",
        "convertí atrás utilizando pandas.\n",
        "\"\"\"\n",
        "\n",
        "pipe_numerico = Pipeline([\n",
        "    ('imputer', SimpleImputer(strategy='mean')),\n",
        "    ('scaler', StandardScaler())\n",
        "])\n",
        "\n",
        "pipe_categorico = Pipeline([\n",
        "    ('encoder', OneHotEncoder(drop='first', handle_unknown='ignore', sparse=False))\n",
        "])\n",
        "\n",
        "preprocesadores = ColumnTransformer(transformers=[\n",
        "    ('num', pipe_numerico, numericas),\n",
        "    ('cat', pipe_categorico, categoricas)\n",
        "])"
      ],
      "metadata": {
        "id": "yK3JW8fa7f9I"
      },
      "execution_count": 212,
      "outputs": []
    },
    {
      "cell_type": "markdown",
      "source": [
        "### 2.1) Regresión logística"
      ],
      "metadata": {
        "id": "36yWfugNMhgA"
      }
    },
    {
      "cell_type": "code",
      "source": [
        "pipe1 = Pipeline([\n",
        "    ('preprocessors', preprocesadores),\n",
        "    ('model', LogisticRegression())\n",
        "])\n",
        "\n",
        "pipe1.fit(x_entrenamiento, y_entrenamiento)"
      ],
      "metadata": {
        "colab": {
          "base_uri": "https://localhost:8080/",
          "height": 227
        },
        "id": "r15fwvCKEx3h",
        "outputId": "8441b829-6b34-4031-cbb2-6b441a187119"
      },
      "execution_count": 213,
      "outputs": [
        {
          "output_type": "execute_result",
          "data": {
            "text/plain": [
              "Pipeline(steps=[('preprocessors',\n",
              "                 ColumnTransformer(transformers=[('num',\n",
              "                                                  Pipeline(steps=[('imputer',\n",
              "                                                                   SimpleImputer()),\n",
              "                                                                  ('scaler',\n",
              "                                                                   StandardScaler())]),\n",
              "                                                  Index(['seniorcitizen', 'tenure', 'monthlycharges', 'totalcharges'], dtype='object')),\n",
              "                                                 ('cat',\n",
              "                                                  Pipeline(steps=[('encoder',\n",
              "                                                                   OneHotEncoder(drop='first',\n",
              "                                                                                 handle_unknown='ignore',\n",
              "                                                                                 sparse=False))]),\n",
              "                                                  Index(['contract', 'dependents', 'deviceprotection', 'gender',\n",
              "       'internetservice', 'multiplelines', 'onlinebackup', 'onlinesecurity',\n",
              "       'paperlessbilling', 'partner', 'paymentmethod', 'phoneservice',\n",
              "       'streamingmovies', 'streamingtv', 'techsupport'],\n",
              "      dtype='object'))])),\n",
              "                ('model', LogisticRegression())])"
            ],
            "text/html": [
              "<style>#sk-c1ddbf07-04e4-4045-8045-8bd4334de5d9 {color: black;background-color: white;}#sk-c1ddbf07-04e4-4045-8045-8bd4334de5d9 pre{padding: 0;}#sk-c1ddbf07-04e4-4045-8045-8bd4334de5d9 div.sk-toggleable {background-color: white;}#sk-c1ddbf07-04e4-4045-8045-8bd4334de5d9 label.sk-toggleable__label {cursor: pointer;display: block;width: 100%;margin-bottom: 0;padding: 0.3em;box-sizing: border-box;text-align: center;}#sk-c1ddbf07-04e4-4045-8045-8bd4334de5d9 label.sk-toggleable__label-arrow:before {content: \"▸\";float: left;margin-right: 0.25em;color: #696969;}#sk-c1ddbf07-04e4-4045-8045-8bd4334de5d9 label.sk-toggleable__label-arrow:hover:before {color: black;}#sk-c1ddbf07-04e4-4045-8045-8bd4334de5d9 div.sk-estimator:hover label.sk-toggleable__label-arrow:before {color: black;}#sk-c1ddbf07-04e4-4045-8045-8bd4334de5d9 div.sk-toggleable__content {max-height: 0;max-width: 0;overflow: hidden;text-align: left;background-color: #f0f8ff;}#sk-c1ddbf07-04e4-4045-8045-8bd4334de5d9 div.sk-toggleable__content pre {margin: 0.2em;color: black;border-radius: 0.25em;background-color: #f0f8ff;}#sk-c1ddbf07-04e4-4045-8045-8bd4334de5d9 input.sk-toggleable__control:checked~div.sk-toggleable__content {max-height: 200px;max-width: 100%;overflow: auto;}#sk-c1ddbf07-04e4-4045-8045-8bd4334de5d9 input.sk-toggleable__control:checked~label.sk-toggleable__label-arrow:before {content: \"▾\";}#sk-c1ddbf07-04e4-4045-8045-8bd4334de5d9 div.sk-estimator input.sk-toggleable__control:checked~label.sk-toggleable__label {background-color: #d4ebff;}#sk-c1ddbf07-04e4-4045-8045-8bd4334de5d9 div.sk-label input.sk-toggleable__control:checked~label.sk-toggleable__label {background-color: #d4ebff;}#sk-c1ddbf07-04e4-4045-8045-8bd4334de5d9 input.sk-hidden--visually {border: 0;clip: rect(1px 1px 1px 1px);clip: rect(1px, 1px, 1px, 1px);height: 1px;margin: -1px;overflow: hidden;padding: 0;position: absolute;width: 1px;}#sk-c1ddbf07-04e4-4045-8045-8bd4334de5d9 div.sk-estimator {font-family: monospace;background-color: #f0f8ff;border: 1px dotted black;border-radius: 0.25em;box-sizing: border-box;margin-bottom: 0.5em;}#sk-c1ddbf07-04e4-4045-8045-8bd4334de5d9 div.sk-estimator:hover {background-color: #d4ebff;}#sk-c1ddbf07-04e4-4045-8045-8bd4334de5d9 div.sk-parallel-item::after {content: \"\";width: 100%;border-bottom: 1px solid gray;flex-grow: 1;}#sk-c1ddbf07-04e4-4045-8045-8bd4334de5d9 div.sk-label:hover label.sk-toggleable__label {background-color: #d4ebff;}#sk-c1ddbf07-04e4-4045-8045-8bd4334de5d9 div.sk-serial::before {content: \"\";position: absolute;border-left: 1px solid gray;box-sizing: border-box;top: 2em;bottom: 0;left: 50%;}#sk-c1ddbf07-04e4-4045-8045-8bd4334de5d9 div.sk-serial {display: flex;flex-direction: column;align-items: center;background-color: white;padding-right: 0.2em;padding-left: 0.2em;}#sk-c1ddbf07-04e4-4045-8045-8bd4334de5d9 div.sk-item {z-index: 1;}#sk-c1ddbf07-04e4-4045-8045-8bd4334de5d9 div.sk-parallel {display: flex;align-items: stretch;justify-content: center;background-color: white;}#sk-c1ddbf07-04e4-4045-8045-8bd4334de5d9 div.sk-parallel::before {content: \"\";position: absolute;border-left: 1px solid gray;box-sizing: border-box;top: 2em;bottom: 0;left: 50%;}#sk-c1ddbf07-04e4-4045-8045-8bd4334de5d9 div.sk-parallel-item {display: flex;flex-direction: column;position: relative;background-color: white;}#sk-c1ddbf07-04e4-4045-8045-8bd4334de5d9 div.sk-parallel-item:first-child::after {align-self: flex-end;width: 50%;}#sk-c1ddbf07-04e4-4045-8045-8bd4334de5d9 div.sk-parallel-item:last-child::after {align-self: flex-start;width: 50%;}#sk-c1ddbf07-04e4-4045-8045-8bd4334de5d9 div.sk-parallel-item:only-child::after {width: 0;}#sk-c1ddbf07-04e4-4045-8045-8bd4334de5d9 div.sk-dashed-wrapped {border: 1px dashed gray;margin: 0 0.4em 0.5em 0.4em;box-sizing: border-box;padding-bottom: 0.4em;background-color: white;position: relative;}#sk-c1ddbf07-04e4-4045-8045-8bd4334de5d9 div.sk-label label {font-family: monospace;font-weight: bold;background-color: white;display: inline-block;line-height: 1.2em;}#sk-c1ddbf07-04e4-4045-8045-8bd4334de5d9 div.sk-label-container {position: relative;z-index: 2;text-align: center;}#sk-c1ddbf07-04e4-4045-8045-8bd4334de5d9 div.sk-container {/* jupyter's `normalize.less` sets `[hidden] { display: none; }` but bootstrap.min.css set `[hidden] { display: none !important; }` so we also need the `!important` here to be able to override the default hidden behavior on the sphinx rendered scikit-learn.org. See: https://github.com/scikit-learn/scikit-learn/issues/21755 */display: inline-block !important;position: relative;}#sk-c1ddbf07-04e4-4045-8045-8bd4334de5d9 div.sk-text-repr-fallback {display: none;}</style><div id=\"sk-c1ddbf07-04e4-4045-8045-8bd4334de5d9\" class=\"sk-top-container\"><div class=\"sk-text-repr-fallback\"><pre>Pipeline(steps=[(&#x27;preprocessors&#x27;,\n",
              "                 ColumnTransformer(transformers=[(&#x27;num&#x27;,\n",
              "                                                  Pipeline(steps=[(&#x27;imputer&#x27;,\n",
              "                                                                   SimpleImputer()),\n",
              "                                                                  (&#x27;scaler&#x27;,\n",
              "                                                                   StandardScaler())]),\n",
              "                                                  Index([&#x27;seniorcitizen&#x27;, &#x27;tenure&#x27;, &#x27;monthlycharges&#x27;, &#x27;totalcharges&#x27;], dtype=&#x27;object&#x27;)),\n",
              "                                                 (&#x27;cat&#x27;,\n",
              "                                                  Pipeline(steps=[(&#x27;encoder&#x27;,\n",
              "                                                                   OneHotEncoder(drop=&#x27;first&#x27;,\n",
              "                                                                                 handle_unknown=&#x27;ignore&#x27;,\n",
              "                                                                                 sparse=False))]),\n",
              "                                                  Index([&#x27;contract&#x27;, &#x27;dependents&#x27;, &#x27;deviceprotection&#x27;, &#x27;gender&#x27;,\n",
              "       &#x27;internetservice&#x27;, &#x27;multiplelines&#x27;, &#x27;onlinebackup&#x27;, &#x27;onlinesecurity&#x27;,\n",
              "       &#x27;paperlessbilling&#x27;, &#x27;partner&#x27;, &#x27;paymentmethod&#x27;, &#x27;phoneservice&#x27;,\n",
              "       &#x27;streamingmovies&#x27;, &#x27;streamingtv&#x27;, &#x27;techsupport&#x27;],\n",
              "      dtype=&#x27;object&#x27;))])),\n",
              "                (&#x27;model&#x27;, LogisticRegression())])</pre><b>Please rerun this cell to show the HTML repr or trust the notebook.</b></div><div class=\"sk-container\" hidden><div class=\"sk-item sk-dashed-wrapped\"><div class=\"sk-label-container\"><div class=\"sk-label sk-toggleable\"><input class=\"sk-toggleable__control sk-hidden--visually\" id=\"4d443c63-01d9-4e58-badc-6098d9249fa8\" type=\"checkbox\" ><label for=\"4d443c63-01d9-4e58-badc-6098d9249fa8\" class=\"sk-toggleable__label sk-toggleable__label-arrow\">Pipeline</label><div class=\"sk-toggleable__content\"><pre>Pipeline(steps=[(&#x27;preprocessors&#x27;,\n",
              "                 ColumnTransformer(transformers=[(&#x27;num&#x27;,\n",
              "                                                  Pipeline(steps=[(&#x27;imputer&#x27;,\n",
              "                                                                   SimpleImputer()),\n",
              "                                                                  (&#x27;scaler&#x27;,\n",
              "                                                                   StandardScaler())]),\n",
              "                                                  Index([&#x27;seniorcitizen&#x27;, &#x27;tenure&#x27;, &#x27;monthlycharges&#x27;, &#x27;totalcharges&#x27;], dtype=&#x27;object&#x27;)),\n",
              "                                                 (&#x27;cat&#x27;,\n",
              "                                                  Pipeline(steps=[(&#x27;encoder&#x27;,\n",
              "                                                                   OneHotEncoder(drop=&#x27;first&#x27;,\n",
              "                                                                                 handle_unknown=&#x27;ignore&#x27;,\n",
              "                                                                                 sparse=False))]),\n",
              "                                                  Index([&#x27;contract&#x27;, &#x27;dependents&#x27;, &#x27;deviceprotection&#x27;, &#x27;gender&#x27;,\n",
              "       &#x27;internetservice&#x27;, &#x27;multiplelines&#x27;, &#x27;onlinebackup&#x27;, &#x27;onlinesecurity&#x27;,\n",
              "       &#x27;paperlessbilling&#x27;, &#x27;partner&#x27;, &#x27;paymentmethod&#x27;, &#x27;phoneservice&#x27;,\n",
              "       &#x27;streamingmovies&#x27;, &#x27;streamingtv&#x27;, &#x27;techsupport&#x27;],\n",
              "      dtype=&#x27;object&#x27;))])),\n",
              "                (&#x27;model&#x27;, LogisticRegression())])</pre></div></div></div><div class=\"sk-serial\"><div class=\"sk-item sk-dashed-wrapped\"><div class=\"sk-label-container\"><div class=\"sk-label sk-toggleable\"><input class=\"sk-toggleable__control sk-hidden--visually\" id=\"ca7a00d5-1c12-487d-8a23-ba1a418dfab2\" type=\"checkbox\" ><label for=\"ca7a00d5-1c12-487d-8a23-ba1a418dfab2\" class=\"sk-toggleable__label sk-toggleable__label-arrow\">preprocessors: ColumnTransformer</label><div class=\"sk-toggleable__content\"><pre>ColumnTransformer(transformers=[(&#x27;num&#x27;,\n",
              "                                 Pipeline(steps=[(&#x27;imputer&#x27;, SimpleImputer()),\n",
              "                                                 (&#x27;scaler&#x27;, StandardScaler())]),\n",
              "                                 Index([&#x27;seniorcitizen&#x27;, &#x27;tenure&#x27;, &#x27;monthlycharges&#x27;, &#x27;totalcharges&#x27;], dtype=&#x27;object&#x27;)),\n",
              "                                (&#x27;cat&#x27;,\n",
              "                                 Pipeline(steps=[(&#x27;encoder&#x27;,\n",
              "                                                  OneHotEncoder(drop=&#x27;first&#x27;,\n",
              "                                                                handle_unknown=&#x27;ignore&#x27;,\n",
              "                                                                sparse=False))]),\n",
              "                                 Index([&#x27;contract&#x27;, &#x27;dependents&#x27;, &#x27;deviceprotection&#x27;, &#x27;gender&#x27;,\n",
              "       &#x27;internetservice&#x27;, &#x27;multiplelines&#x27;, &#x27;onlinebackup&#x27;, &#x27;onlinesecurity&#x27;,\n",
              "       &#x27;paperlessbilling&#x27;, &#x27;partner&#x27;, &#x27;paymentmethod&#x27;, &#x27;phoneservice&#x27;,\n",
              "       &#x27;streamingmovies&#x27;, &#x27;streamingtv&#x27;, &#x27;techsupport&#x27;],\n",
              "      dtype=&#x27;object&#x27;))])</pre></div></div></div><div class=\"sk-parallel\"><div class=\"sk-parallel-item\"><div class=\"sk-item\"><div class=\"sk-label-container\"><div class=\"sk-label sk-toggleable\"><input class=\"sk-toggleable__control sk-hidden--visually\" id=\"2486846e-f684-4c62-9e9f-76f0b4c0c0da\" type=\"checkbox\" ><label for=\"2486846e-f684-4c62-9e9f-76f0b4c0c0da\" class=\"sk-toggleable__label sk-toggleable__label-arrow\">num</label><div class=\"sk-toggleable__content\"><pre>Index([&#x27;seniorcitizen&#x27;, &#x27;tenure&#x27;, &#x27;monthlycharges&#x27;, &#x27;totalcharges&#x27;], dtype=&#x27;object&#x27;)</pre></div></div></div><div class=\"sk-serial\"><div class=\"sk-item\"><div class=\"sk-serial\"><div class=\"sk-item\"><div class=\"sk-estimator sk-toggleable\"><input class=\"sk-toggleable__control sk-hidden--visually\" id=\"50a03029-8c22-451e-87f5-117963250eb7\" type=\"checkbox\" ><label for=\"50a03029-8c22-451e-87f5-117963250eb7\" class=\"sk-toggleable__label sk-toggleable__label-arrow\">SimpleImputer</label><div class=\"sk-toggleable__content\"><pre>SimpleImputer()</pre></div></div></div><div class=\"sk-item\"><div class=\"sk-estimator sk-toggleable\"><input class=\"sk-toggleable__control sk-hidden--visually\" id=\"e92969b2-3ca8-4446-b893-128e930859e8\" type=\"checkbox\" ><label for=\"e92969b2-3ca8-4446-b893-128e930859e8\" class=\"sk-toggleable__label sk-toggleable__label-arrow\">StandardScaler</label><div class=\"sk-toggleable__content\"><pre>StandardScaler()</pre></div></div></div></div></div></div></div></div><div class=\"sk-parallel-item\"><div class=\"sk-item\"><div class=\"sk-label-container\"><div class=\"sk-label sk-toggleable\"><input class=\"sk-toggleable__control sk-hidden--visually\" id=\"4f2d72ce-037a-4eea-bd99-0153a087b511\" type=\"checkbox\" ><label for=\"4f2d72ce-037a-4eea-bd99-0153a087b511\" class=\"sk-toggleable__label sk-toggleable__label-arrow\">cat</label><div class=\"sk-toggleable__content\"><pre>Index([&#x27;contract&#x27;, &#x27;dependents&#x27;, &#x27;deviceprotection&#x27;, &#x27;gender&#x27;,\n",
              "       &#x27;internetservice&#x27;, &#x27;multiplelines&#x27;, &#x27;onlinebackup&#x27;, &#x27;onlinesecurity&#x27;,\n",
              "       &#x27;paperlessbilling&#x27;, &#x27;partner&#x27;, &#x27;paymentmethod&#x27;, &#x27;phoneservice&#x27;,\n",
              "       &#x27;streamingmovies&#x27;, &#x27;streamingtv&#x27;, &#x27;techsupport&#x27;],\n",
              "      dtype=&#x27;object&#x27;)</pre></div></div></div><div class=\"sk-serial\"><div class=\"sk-item\"><div class=\"sk-serial\"><div class=\"sk-item\"><div class=\"sk-estimator sk-toggleable\"><input class=\"sk-toggleable__control sk-hidden--visually\" id=\"da990f04-d0b8-459c-b92b-0e885e32bc8e\" type=\"checkbox\" ><label for=\"da990f04-d0b8-459c-b92b-0e885e32bc8e\" class=\"sk-toggleable__label sk-toggleable__label-arrow\">OneHotEncoder</label><div class=\"sk-toggleable__content\"><pre>OneHotEncoder(drop=&#x27;first&#x27;, handle_unknown=&#x27;ignore&#x27;, sparse=False)</pre></div></div></div></div></div></div></div></div></div></div><div class=\"sk-item\"><div class=\"sk-estimator sk-toggleable\"><input class=\"sk-toggleable__control sk-hidden--visually\" id=\"2a5f2a1d-b05e-4449-87a2-6f271b0a2318\" type=\"checkbox\" ><label for=\"2a5f2a1d-b05e-4449-87a2-6f271b0a2318\" class=\"sk-toggleable__label sk-toggleable__label-arrow\">LogisticRegression</label><div class=\"sk-toggleable__content\"><pre>LogisticRegression()</pre></div></div></div></div></div></div></div>"
            ]
          },
          "metadata": {},
          "execution_count": 213
        }
      ]
    },
    {
      "cell_type": "markdown",
      "source": [
        "### 2.2) Máquina de vectores de soporte"
      ],
      "metadata": {
        "id": "UboGSOduM13X"
      }
    },
    {
      "cell_type": "code",
      "source": [
        "pipe2 = Pipeline([\n",
        "    ('preprocessors', preprocesadores),\n",
        "    ('model', SVC())\n",
        "])\n",
        "\n",
        "pipe2.fit(x_entrenamiento, y_entrenamiento)"
      ],
      "metadata": {
        "colab": {
          "base_uri": "https://localhost:8080/",
          "height": 227
        },
        "id": "3X6vPHHAM58w",
        "outputId": "f5270d71-6298-4175-c6c9-dd2b6e052f90"
      },
      "execution_count": 214,
      "outputs": [
        {
          "output_type": "execute_result",
          "data": {
            "text/plain": [
              "Pipeline(steps=[('preprocessors',\n",
              "                 ColumnTransformer(transformers=[('num',\n",
              "                                                  Pipeline(steps=[('imputer',\n",
              "                                                                   SimpleImputer()),\n",
              "                                                                  ('scaler',\n",
              "                                                                   StandardScaler())]),\n",
              "                                                  Index(['seniorcitizen', 'tenure', 'monthlycharges', 'totalcharges'], dtype='object')),\n",
              "                                                 ('cat',\n",
              "                                                  Pipeline(steps=[('encoder',\n",
              "                                                                   OneHotEncoder(drop='first',\n",
              "                                                                                 handle_unknown='ignore',\n",
              "                                                                                 sparse=False))]),\n",
              "                                                  Index(['contract', 'dependents', 'deviceprotection', 'gender',\n",
              "       'internetservice', 'multiplelines', 'onlinebackup', 'onlinesecurity',\n",
              "       'paperlessbilling', 'partner', 'paymentmethod', 'phoneservice',\n",
              "       'streamingmovies', 'streamingtv', 'techsupport'],\n",
              "      dtype='object'))])),\n",
              "                ('model', SVC())])"
            ],
            "text/html": [
              "<style>#sk-e4d500bb-0797-4830-95b4-1dd02e7e2d35 {color: black;background-color: white;}#sk-e4d500bb-0797-4830-95b4-1dd02e7e2d35 pre{padding: 0;}#sk-e4d500bb-0797-4830-95b4-1dd02e7e2d35 div.sk-toggleable {background-color: white;}#sk-e4d500bb-0797-4830-95b4-1dd02e7e2d35 label.sk-toggleable__label {cursor: pointer;display: block;width: 100%;margin-bottom: 0;padding: 0.3em;box-sizing: border-box;text-align: center;}#sk-e4d500bb-0797-4830-95b4-1dd02e7e2d35 label.sk-toggleable__label-arrow:before {content: \"▸\";float: left;margin-right: 0.25em;color: #696969;}#sk-e4d500bb-0797-4830-95b4-1dd02e7e2d35 label.sk-toggleable__label-arrow:hover:before {color: black;}#sk-e4d500bb-0797-4830-95b4-1dd02e7e2d35 div.sk-estimator:hover label.sk-toggleable__label-arrow:before {color: black;}#sk-e4d500bb-0797-4830-95b4-1dd02e7e2d35 div.sk-toggleable__content {max-height: 0;max-width: 0;overflow: hidden;text-align: left;background-color: #f0f8ff;}#sk-e4d500bb-0797-4830-95b4-1dd02e7e2d35 div.sk-toggleable__content pre {margin: 0.2em;color: black;border-radius: 0.25em;background-color: #f0f8ff;}#sk-e4d500bb-0797-4830-95b4-1dd02e7e2d35 input.sk-toggleable__control:checked~div.sk-toggleable__content {max-height: 200px;max-width: 100%;overflow: auto;}#sk-e4d500bb-0797-4830-95b4-1dd02e7e2d35 input.sk-toggleable__control:checked~label.sk-toggleable__label-arrow:before {content: \"▾\";}#sk-e4d500bb-0797-4830-95b4-1dd02e7e2d35 div.sk-estimator input.sk-toggleable__control:checked~label.sk-toggleable__label {background-color: #d4ebff;}#sk-e4d500bb-0797-4830-95b4-1dd02e7e2d35 div.sk-label input.sk-toggleable__control:checked~label.sk-toggleable__label {background-color: #d4ebff;}#sk-e4d500bb-0797-4830-95b4-1dd02e7e2d35 input.sk-hidden--visually {border: 0;clip: rect(1px 1px 1px 1px);clip: rect(1px, 1px, 1px, 1px);height: 1px;margin: -1px;overflow: hidden;padding: 0;position: absolute;width: 1px;}#sk-e4d500bb-0797-4830-95b4-1dd02e7e2d35 div.sk-estimator {font-family: monospace;background-color: #f0f8ff;border: 1px dotted black;border-radius: 0.25em;box-sizing: border-box;margin-bottom: 0.5em;}#sk-e4d500bb-0797-4830-95b4-1dd02e7e2d35 div.sk-estimator:hover {background-color: #d4ebff;}#sk-e4d500bb-0797-4830-95b4-1dd02e7e2d35 div.sk-parallel-item::after {content: \"\";width: 100%;border-bottom: 1px solid gray;flex-grow: 1;}#sk-e4d500bb-0797-4830-95b4-1dd02e7e2d35 div.sk-label:hover label.sk-toggleable__label {background-color: #d4ebff;}#sk-e4d500bb-0797-4830-95b4-1dd02e7e2d35 div.sk-serial::before {content: \"\";position: absolute;border-left: 1px solid gray;box-sizing: border-box;top: 2em;bottom: 0;left: 50%;}#sk-e4d500bb-0797-4830-95b4-1dd02e7e2d35 div.sk-serial {display: flex;flex-direction: column;align-items: center;background-color: white;padding-right: 0.2em;padding-left: 0.2em;}#sk-e4d500bb-0797-4830-95b4-1dd02e7e2d35 div.sk-item {z-index: 1;}#sk-e4d500bb-0797-4830-95b4-1dd02e7e2d35 div.sk-parallel {display: flex;align-items: stretch;justify-content: center;background-color: white;}#sk-e4d500bb-0797-4830-95b4-1dd02e7e2d35 div.sk-parallel::before {content: \"\";position: absolute;border-left: 1px solid gray;box-sizing: border-box;top: 2em;bottom: 0;left: 50%;}#sk-e4d500bb-0797-4830-95b4-1dd02e7e2d35 div.sk-parallel-item {display: flex;flex-direction: column;position: relative;background-color: white;}#sk-e4d500bb-0797-4830-95b4-1dd02e7e2d35 div.sk-parallel-item:first-child::after {align-self: flex-end;width: 50%;}#sk-e4d500bb-0797-4830-95b4-1dd02e7e2d35 div.sk-parallel-item:last-child::after {align-self: flex-start;width: 50%;}#sk-e4d500bb-0797-4830-95b4-1dd02e7e2d35 div.sk-parallel-item:only-child::after {width: 0;}#sk-e4d500bb-0797-4830-95b4-1dd02e7e2d35 div.sk-dashed-wrapped {border: 1px dashed gray;margin: 0 0.4em 0.5em 0.4em;box-sizing: border-box;padding-bottom: 0.4em;background-color: white;position: relative;}#sk-e4d500bb-0797-4830-95b4-1dd02e7e2d35 div.sk-label label {font-family: monospace;font-weight: bold;background-color: white;display: inline-block;line-height: 1.2em;}#sk-e4d500bb-0797-4830-95b4-1dd02e7e2d35 div.sk-label-container {position: relative;z-index: 2;text-align: center;}#sk-e4d500bb-0797-4830-95b4-1dd02e7e2d35 div.sk-container {/* jupyter's `normalize.less` sets `[hidden] { display: none; }` but bootstrap.min.css set `[hidden] { display: none !important; }` so we also need the `!important` here to be able to override the default hidden behavior on the sphinx rendered scikit-learn.org. See: https://github.com/scikit-learn/scikit-learn/issues/21755 */display: inline-block !important;position: relative;}#sk-e4d500bb-0797-4830-95b4-1dd02e7e2d35 div.sk-text-repr-fallback {display: none;}</style><div id=\"sk-e4d500bb-0797-4830-95b4-1dd02e7e2d35\" class=\"sk-top-container\"><div class=\"sk-text-repr-fallback\"><pre>Pipeline(steps=[(&#x27;preprocessors&#x27;,\n",
              "                 ColumnTransformer(transformers=[(&#x27;num&#x27;,\n",
              "                                                  Pipeline(steps=[(&#x27;imputer&#x27;,\n",
              "                                                                   SimpleImputer()),\n",
              "                                                                  (&#x27;scaler&#x27;,\n",
              "                                                                   StandardScaler())]),\n",
              "                                                  Index([&#x27;seniorcitizen&#x27;, &#x27;tenure&#x27;, &#x27;monthlycharges&#x27;, &#x27;totalcharges&#x27;], dtype=&#x27;object&#x27;)),\n",
              "                                                 (&#x27;cat&#x27;,\n",
              "                                                  Pipeline(steps=[(&#x27;encoder&#x27;,\n",
              "                                                                   OneHotEncoder(drop=&#x27;first&#x27;,\n",
              "                                                                                 handle_unknown=&#x27;ignore&#x27;,\n",
              "                                                                                 sparse=False))]),\n",
              "                                                  Index([&#x27;contract&#x27;, &#x27;dependents&#x27;, &#x27;deviceprotection&#x27;, &#x27;gender&#x27;,\n",
              "       &#x27;internetservice&#x27;, &#x27;multiplelines&#x27;, &#x27;onlinebackup&#x27;, &#x27;onlinesecurity&#x27;,\n",
              "       &#x27;paperlessbilling&#x27;, &#x27;partner&#x27;, &#x27;paymentmethod&#x27;, &#x27;phoneservice&#x27;,\n",
              "       &#x27;streamingmovies&#x27;, &#x27;streamingtv&#x27;, &#x27;techsupport&#x27;],\n",
              "      dtype=&#x27;object&#x27;))])),\n",
              "                (&#x27;model&#x27;, SVC())])</pre><b>Please rerun this cell to show the HTML repr or trust the notebook.</b></div><div class=\"sk-container\" hidden><div class=\"sk-item sk-dashed-wrapped\"><div class=\"sk-label-container\"><div class=\"sk-label sk-toggleable\"><input class=\"sk-toggleable__control sk-hidden--visually\" id=\"f75c2945-9fa1-4f8a-a92b-4f839392bc33\" type=\"checkbox\" ><label for=\"f75c2945-9fa1-4f8a-a92b-4f839392bc33\" class=\"sk-toggleable__label sk-toggleable__label-arrow\">Pipeline</label><div class=\"sk-toggleable__content\"><pre>Pipeline(steps=[(&#x27;preprocessors&#x27;,\n",
              "                 ColumnTransformer(transformers=[(&#x27;num&#x27;,\n",
              "                                                  Pipeline(steps=[(&#x27;imputer&#x27;,\n",
              "                                                                   SimpleImputer()),\n",
              "                                                                  (&#x27;scaler&#x27;,\n",
              "                                                                   StandardScaler())]),\n",
              "                                                  Index([&#x27;seniorcitizen&#x27;, &#x27;tenure&#x27;, &#x27;monthlycharges&#x27;, &#x27;totalcharges&#x27;], dtype=&#x27;object&#x27;)),\n",
              "                                                 (&#x27;cat&#x27;,\n",
              "                                                  Pipeline(steps=[(&#x27;encoder&#x27;,\n",
              "                                                                   OneHotEncoder(drop=&#x27;first&#x27;,\n",
              "                                                                                 handle_unknown=&#x27;ignore&#x27;,\n",
              "                                                                                 sparse=False))]),\n",
              "                                                  Index([&#x27;contract&#x27;, &#x27;dependents&#x27;, &#x27;deviceprotection&#x27;, &#x27;gender&#x27;,\n",
              "       &#x27;internetservice&#x27;, &#x27;multiplelines&#x27;, &#x27;onlinebackup&#x27;, &#x27;onlinesecurity&#x27;,\n",
              "       &#x27;paperlessbilling&#x27;, &#x27;partner&#x27;, &#x27;paymentmethod&#x27;, &#x27;phoneservice&#x27;,\n",
              "       &#x27;streamingmovies&#x27;, &#x27;streamingtv&#x27;, &#x27;techsupport&#x27;],\n",
              "      dtype=&#x27;object&#x27;))])),\n",
              "                (&#x27;model&#x27;, SVC())])</pre></div></div></div><div class=\"sk-serial\"><div class=\"sk-item sk-dashed-wrapped\"><div class=\"sk-label-container\"><div class=\"sk-label sk-toggleable\"><input class=\"sk-toggleable__control sk-hidden--visually\" id=\"5c21c993-bcb4-4f6b-a439-659ccbca1924\" type=\"checkbox\" ><label for=\"5c21c993-bcb4-4f6b-a439-659ccbca1924\" class=\"sk-toggleable__label sk-toggleable__label-arrow\">preprocessors: ColumnTransformer</label><div class=\"sk-toggleable__content\"><pre>ColumnTransformer(transformers=[(&#x27;num&#x27;,\n",
              "                                 Pipeline(steps=[(&#x27;imputer&#x27;, SimpleImputer()),\n",
              "                                                 (&#x27;scaler&#x27;, StandardScaler())]),\n",
              "                                 Index([&#x27;seniorcitizen&#x27;, &#x27;tenure&#x27;, &#x27;monthlycharges&#x27;, &#x27;totalcharges&#x27;], dtype=&#x27;object&#x27;)),\n",
              "                                (&#x27;cat&#x27;,\n",
              "                                 Pipeline(steps=[(&#x27;encoder&#x27;,\n",
              "                                                  OneHotEncoder(drop=&#x27;first&#x27;,\n",
              "                                                                handle_unknown=&#x27;ignore&#x27;,\n",
              "                                                                sparse=False))]),\n",
              "                                 Index([&#x27;contract&#x27;, &#x27;dependents&#x27;, &#x27;deviceprotection&#x27;, &#x27;gender&#x27;,\n",
              "       &#x27;internetservice&#x27;, &#x27;multiplelines&#x27;, &#x27;onlinebackup&#x27;, &#x27;onlinesecurity&#x27;,\n",
              "       &#x27;paperlessbilling&#x27;, &#x27;partner&#x27;, &#x27;paymentmethod&#x27;, &#x27;phoneservice&#x27;,\n",
              "       &#x27;streamingmovies&#x27;, &#x27;streamingtv&#x27;, &#x27;techsupport&#x27;],\n",
              "      dtype=&#x27;object&#x27;))])</pre></div></div></div><div class=\"sk-parallel\"><div class=\"sk-parallel-item\"><div class=\"sk-item\"><div class=\"sk-label-container\"><div class=\"sk-label sk-toggleable\"><input class=\"sk-toggleable__control sk-hidden--visually\" id=\"5c0e54f9-bbea-4a6c-a6f3-a2ec0645f57a\" type=\"checkbox\" ><label for=\"5c0e54f9-bbea-4a6c-a6f3-a2ec0645f57a\" class=\"sk-toggleable__label sk-toggleable__label-arrow\">num</label><div class=\"sk-toggleable__content\"><pre>Index([&#x27;seniorcitizen&#x27;, &#x27;tenure&#x27;, &#x27;monthlycharges&#x27;, &#x27;totalcharges&#x27;], dtype=&#x27;object&#x27;)</pre></div></div></div><div class=\"sk-serial\"><div class=\"sk-item\"><div class=\"sk-serial\"><div class=\"sk-item\"><div class=\"sk-estimator sk-toggleable\"><input class=\"sk-toggleable__control sk-hidden--visually\" id=\"89af951f-6809-4320-88e9-51ebad4aabe3\" type=\"checkbox\" ><label for=\"89af951f-6809-4320-88e9-51ebad4aabe3\" class=\"sk-toggleable__label sk-toggleable__label-arrow\">SimpleImputer</label><div class=\"sk-toggleable__content\"><pre>SimpleImputer()</pre></div></div></div><div class=\"sk-item\"><div class=\"sk-estimator sk-toggleable\"><input class=\"sk-toggleable__control sk-hidden--visually\" id=\"5caf813b-07aa-4b9f-9bc1-749be29eafcb\" type=\"checkbox\" ><label for=\"5caf813b-07aa-4b9f-9bc1-749be29eafcb\" class=\"sk-toggleable__label sk-toggleable__label-arrow\">StandardScaler</label><div class=\"sk-toggleable__content\"><pre>StandardScaler()</pre></div></div></div></div></div></div></div></div><div class=\"sk-parallel-item\"><div class=\"sk-item\"><div class=\"sk-label-container\"><div class=\"sk-label sk-toggleable\"><input class=\"sk-toggleable__control sk-hidden--visually\" id=\"f7883bd2-7a1a-46d1-a540-cd7d6ce270ae\" type=\"checkbox\" ><label for=\"f7883bd2-7a1a-46d1-a540-cd7d6ce270ae\" class=\"sk-toggleable__label sk-toggleable__label-arrow\">cat</label><div class=\"sk-toggleable__content\"><pre>Index([&#x27;contract&#x27;, &#x27;dependents&#x27;, &#x27;deviceprotection&#x27;, &#x27;gender&#x27;,\n",
              "       &#x27;internetservice&#x27;, &#x27;multiplelines&#x27;, &#x27;onlinebackup&#x27;, &#x27;onlinesecurity&#x27;,\n",
              "       &#x27;paperlessbilling&#x27;, &#x27;partner&#x27;, &#x27;paymentmethod&#x27;, &#x27;phoneservice&#x27;,\n",
              "       &#x27;streamingmovies&#x27;, &#x27;streamingtv&#x27;, &#x27;techsupport&#x27;],\n",
              "      dtype=&#x27;object&#x27;)</pre></div></div></div><div class=\"sk-serial\"><div class=\"sk-item\"><div class=\"sk-serial\"><div class=\"sk-item\"><div class=\"sk-estimator sk-toggleable\"><input class=\"sk-toggleable__control sk-hidden--visually\" id=\"03cf8cff-c826-4736-88d9-e5c2a5520867\" type=\"checkbox\" ><label for=\"03cf8cff-c826-4736-88d9-e5c2a5520867\" class=\"sk-toggleable__label sk-toggleable__label-arrow\">OneHotEncoder</label><div class=\"sk-toggleable__content\"><pre>OneHotEncoder(drop=&#x27;first&#x27;, handle_unknown=&#x27;ignore&#x27;, sparse=False)</pre></div></div></div></div></div></div></div></div></div></div><div class=\"sk-item\"><div class=\"sk-estimator sk-toggleable\"><input class=\"sk-toggleable__control sk-hidden--visually\" id=\"d27052e4-9db4-4224-b3ea-4a1ccd2e6ecc\" type=\"checkbox\" ><label for=\"d27052e4-9db4-4224-b3ea-4a1ccd2e6ecc\" class=\"sk-toggleable__label sk-toggleable__label-arrow\">SVC</label><div class=\"sk-toggleable__content\"><pre>SVC()</pre></div></div></div></div></div></div></div>"
            ]
          },
          "metadata": {},
          "execution_count": 214
        }
      ]
    },
    {
      "cell_type": "markdown",
      "source": [
        "### 2.3) Árboles de decisión"
      ],
      "metadata": {
        "id": "iIRuE6tPNXgD"
      }
    },
    {
      "cell_type": "code",
      "source": [
        "pipe3 = Pipeline([\n",
        "    ('preprocessors', preprocesadores),\n",
        "    ('model', DecisionTreeClassifier())\n",
        "])\n",
        "\n",
        "pipe3.fit(x_entrenamiento, y_entrenamiento)"
      ],
      "metadata": {
        "id": "JxW98e0ANacD",
        "colab": {
          "base_uri": "https://localhost:8080/",
          "height": 227
        },
        "outputId": "1772f65d-3dda-4520-b05e-51783e07a193"
      },
      "execution_count": 215,
      "outputs": [
        {
          "output_type": "execute_result",
          "data": {
            "text/plain": [
              "Pipeline(steps=[('preprocessors',\n",
              "                 ColumnTransformer(transformers=[('num',\n",
              "                                                  Pipeline(steps=[('imputer',\n",
              "                                                                   SimpleImputer()),\n",
              "                                                                  ('scaler',\n",
              "                                                                   StandardScaler())]),\n",
              "                                                  Index(['seniorcitizen', 'tenure', 'monthlycharges', 'totalcharges'], dtype='object')),\n",
              "                                                 ('cat',\n",
              "                                                  Pipeline(steps=[('encoder',\n",
              "                                                                   OneHotEncoder(drop='first',\n",
              "                                                                                 handle_unknown='ignore',\n",
              "                                                                                 sparse=False))]),\n",
              "                                                  Index(['contract', 'dependents', 'deviceprotection', 'gender',\n",
              "       'internetservice', 'multiplelines', 'onlinebackup', 'onlinesecurity',\n",
              "       'paperlessbilling', 'partner', 'paymentmethod', 'phoneservice',\n",
              "       'streamingmovies', 'streamingtv', 'techsupport'],\n",
              "      dtype='object'))])),\n",
              "                ('model', DecisionTreeClassifier())])"
            ],
            "text/html": [
              "<style>#sk-2211933a-abc3-465a-81ca-ed52332f940f {color: black;background-color: white;}#sk-2211933a-abc3-465a-81ca-ed52332f940f pre{padding: 0;}#sk-2211933a-abc3-465a-81ca-ed52332f940f div.sk-toggleable {background-color: white;}#sk-2211933a-abc3-465a-81ca-ed52332f940f label.sk-toggleable__label {cursor: pointer;display: block;width: 100%;margin-bottom: 0;padding: 0.3em;box-sizing: border-box;text-align: center;}#sk-2211933a-abc3-465a-81ca-ed52332f940f label.sk-toggleable__label-arrow:before {content: \"▸\";float: left;margin-right: 0.25em;color: #696969;}#sk-2211933a-abc3-465a-81ca-ed52332f940f label.sk-toggleable__label-arrow:hover:before {color: black;}#sk-2211933a-abc3-465a-81ca-ed52332f940f div.sk-estimator:hover label.sk-toggleable__label-arrow:before {color: black;}#sk-2211933a-abc3-465a-81ca-ed52332f940f div.sk-toggleable__content {max-height: 0;max-width: 0;overflow: hidden;text-align: left;background-color: #f0f8ff;}#sk-2211933a-abc3-465a-81ca-ed52332f940f div.sk-toggleable__content pre {margin: 0.2em;color: black;border-radius: 0.25em;background-color: #f0f8ff;}#sk-2211933a-abc3-465a-81ca-ed52332f940f input.sk-toggleable__control:checked~div.sk-toggleable__content {max-height: 200px;max-width: 100%;overflow: auto;}#sk-2211933a-abc3-465a-81ca-ed52332f940f input.sk-toggleable__control:checked~label.sk-toggleable__label-arrow:before {content: \"▾\";}#sk-2211933a-abc3-465a-81ca-ed52332f940f div.sk-estimator input.sk-toggleable__control:checked~label.sk-toggleable__label {background-color: #d4ebff;}#sk-2211933a-abc3-465a-81ca-ed52332f940f div.sk-label input.sk-toggleable__control:checked~label.sk-toggleable__label {background-color: #d4ebff;}#sk-2211933a-abc3-465a-81ca-ed52332f940f input.sk-hidden--visually {border: 0;clip: rect(1px 1px 1px 1px);clip: rect(1px, 1px, 1px, 1px);height: 1px;margin: -1px;overflow: hidden;padding: 0;position: absolute;width: 1px;}#sk-2211933a-abc3-465a-81ca-ed52332f940f div.sk-estimator {font-family: monospace;background-color: #f0f8ff;border: 1px dotted black;border-radius: 0.25em;box-sizing: border-box;margin-bottom: 0.5em;}#sk-2211933a-abc3-465a-81ca-ed52332f940f div.sk-estimator:hover {background-color: #d4ebff;}#sk-2211933a-abc3-465a-81ca-ed52332f940f div.sk-parallel-item::after {content: \"\";width: 100%;border-bottom: 1px solid gray;flex-grow: 1;}#sk-2211933a-abc3-465a-81ca-ed52332f940f div.sk-label:hover label.sk-toggleable__label {background-color: #d4ebff;}#sk-2211933a-abc3-465a-81ca-ed52332f940f div.sk-serial::before {content: \"\";position: absolute;border-left: 1px solid gray;box-sizing: border-box;top: 2em;bottom: 0;left: 50%;}#sk-2211933a-abc3-465a-81ca-ed52332f940f div.sk-serial {display: flex;flex-direction: column;align-items: center;background-color: white;padding-right: 0.2em;padding-left: 0.2em;}#sk-2211933a-abc3-465a-81ca-ed52332f940f div.sk-item {z-index: 1;}#sk-2211933a-abc3-465a-81ca-ed52332f940f div.sk-parallel {display: flex;align-items: stretch;justify-content: center;background-color: white;}#sk-2211933a-abc3-465a-81ca-ed52332f940f div.sk-parallel::before {content: \"\";position: absolute;border-left: 1px solid gray;box-sizing: border-box;top: 2em;bottom: 0;left: 50%;}#sk-2211933a-abc3-465a-81ca-ed52332f940f div.sk-parallel-item {display: flex;flex-direction: column;position: relative;background-color: white;}#sk-2211933a-abc3-465a-81ca-ed52332f940f div.sk-parallel-item:first-child::after {align-self: flex-end;width: 50%;}#sk-2211933a-abc3-465a-81ca-ed52332f940f div.sk-parallel-item:last-child::after {align-self: flex-start;width: 50%;}#sk-2211933a-abc3-465a-81ca-ed52332f940f div.sk-parallel-item:only-child::after {width: 0;}#sk-2211933a-abc3-465a-81ca-ed52332f940f div.sk-dashed-wrapped {border: 1px dashed gray;margin: 0 0.4em 0.5em 0.4em;box-sizing: border-box;padding-bottom: 0.4em;background-color: white;position: relative;}#sk-2211933a-abc3-465a-81ca-ed52332f940f div.sk-label label {font-family: monospace;font-weight: bold;background-color: white;display: inline-block;line-height: 1.2em;}#sk-2211933a-abc3-465a-81ca-ed52332f940f div.sk-label-container {position: relative;z-index: 2;text-align: center;}#sk-2211933a-abc3-465a-81ca-ed52332f940f div.sk-container {/* jupyter's `normalize.less` sets `[hidden] { display: none; }` but bootstrap.min.css set `[hidden] { display: none !important; }` so we also need the `!important` here to be able to override the default hidden behavior on the sphinx rendered scikit-learn.org. See: https://github.com/scikit-learn/scikit-learn/issues/21755 */display: inline-block !important;position: relative;}#sk-2211933a-abc3-465a-81ca-ed52332f940f div.sk-text-repr-fallback {display: none;}</style><div id=\"sk-2211933a-abc3-465a-81ca-ed52332f940f\" class=\"sk-top-container\"><div class=\"sk-text-repr-fallback\"><pre>Pipeline(steps=[(&#x27;preprocessors&#x27;,\n",
              "                 ColumnTransformer(transformers=[(&#x27;num&#x27;,\n",
              "                                                  Pipeline(steps=[(&#x27;imputer&#x27;,\n",
              "                                                                   SimpleImputer()),\n",
              "                                                                  (&#x27;scaler&#x27;,\n",
              "                                                                   StandardScaler())]),\n",
              "                                                  Index([&#x27;seniorcitizen&#x27;, &#x27;tenure&#x27;, &#x27;monthlycharges&#x27;, &#x27;totalcharges&#x27;], dtype=&#x27;object&#x27;)),\n",
              "                                                 (&#x27;cat&#x27;,\n",
              "                                                  Pipeline(steps=[(&#x27;encoder&#x27;,\n",
              "                                                                   OneHotEncoder(drop=&#x27;first&#x27;,\n",
              "                                                                                 handle_unknown=&#x27;ignore&#x27;,\n",
              "                                                                                 sparse=False))]),\n",
              "                                                  Index([&#x27;contract&#x27;, &#x27;dependents&#x27;, &#x27;deviceprotection&#x27;, &#x27;gender&#x27;,\n",
              "       &#x27;internetservice&#x27;, &#x27;multiplelines&#x27;, &#x27;onlinebackup&#x27;, &#x27;onlinesecurity&#x27;,\n",
              "       &#x27;paperlessbilling&#x27;, &#x27;partner&#x27;, &#x27;paymentmethod&#x27;, &#x27;phoneservice&#x27;,\n",
              "       &#x27;streamingmovies&#x27;, &#x27;streamingtv&#x27;, &#x27;techsupport&#x27;],\n",
              "      dtype=&#x27;object&#x27;))])),\n",
              "                (&#x27;model&#x27;, DecisionTreeClassifier())])</pre><b>Please rerun this cell to show the HTML repr or trust the notebook.</b></div><div class=\"sk-container\" hidden><div class=\"sk-item sk-dashed-wrapped\"><div class=\"sk-label-container\"><div class=\"sk-label sk-toggleable\"><input class=\"sk-toggleable__control sk-hidden--visually\" id=\"5cdc5132-9b86-4d4c-8f0e-61272cff26ff\" type=\"checkbox\" ><label for=\"5cdc5132-9b86-4d4c-8f0e-61272cff26ff\" class=\"sk-toggleable__label sk-toggleable__label-arrow\">Pipeline</label><div class=\"sk-toggleable__content\"><pre>Pipeline(steps=[(&#x27;preprocessors&#x27;,\n",
              "                 ColumnTransformer(transformers=[(&#x27;num&#x27;,\n",
              "                                                  Pipeline(steps=[(&#x27;imputer&#x27;,\n",
              "                                                                   SimpleImputer()),\n",
              "                                                                  (&#x27;scaler&#x27;,\n",
              "                                                                   StandardScaler())]),\n",
              "                                                  Index([&#x27;seniorcitizen&#x27;, &#x27;tenure&#x27;, &#x27;monthlycharges&#x27;, &#x27;totalcharges&#x27;], dtype=&#x27;object&#x27;)),\n",
              "                                                 (&#x27;cat&#x27;,\n",
              "                                                  Pipeline(steps=[(&#x27;encoder&#x27;,\n",
              "                                                                   OneHotEncoder(drop=&#x27;first&#x27;,\n",
              "                                                                                 handle_unknown=&#x27;ignore&#x27;,\n",
              "                                                                                 sparse=False))]),\n",
              "                                                  Index([&#x27;contract&#x27;, &#x27;dependents&#x27;, &#x27;deviceprotection&#x27;, &#x27;gender&#x27;,\n",
              "       &#x27;internetservice&#x27;, &#x27;multiplelines&#x27;, &#x27;onlinebackup&#x27;, &#x27;onlinesecurity&#x27;,\n",
              "       &#x27;paperlessbilling&#x27;, &#x27;partner&#x27;, &#x27;paymentmethod&#x27;, &#x27;phoneservice&#x27;,\n",
              "       &#x27;streamingmovies&#x27;, &#x27;streamingtv&#x27;, &#x27;techsupport&#x27;],\n",
              "      dtype=&#x27;object&#x27;))])),\n",
              "                (&#x27;model&#x27;, DecisionTreeClassifier())])</pre></div></div></div><div class=\"sk-serial\"><div class=\"sk-item sk-dashed-wrapped\"><div class=\"sk-label-container\"><div class=\"sk-label sk-toggleable\"><input class=\"sk-toggleable__control sk-hidden--visually\" id=\"57856f23-a755-4e8b-9418-7ba7f6a4b752\" type=\"checkbox\" ><label for=\"57856f23-a755-4e8b-9418-7ba7f6a4b752\" class=\"sk-toggleable__label sk-toggleable__label-arrow\">preprocessors: ColumnTransformer</label><div class=\"sk-toggleable__content\"><pre>ColumnTransformer(transformers=[(&#x27;num&#x27;,\n",
              "                                 Pipeline(steps=[(&#x27;imputer&#x27;, SimpleImputer()),\n",
              "                                                 (&#x27;scaler&#x27;, StandardScaler())]),\n",
              "                                 Index([&#x27;seniorcitizen&#x27;, &#x27;tenure&#x27;, &#x27;monthlycharges&#x27;, &#x27;totalcharges&#x27;], dtype=&#x27;object&#x27;)),\n",
              "                                (&#x27;cat&#x27;,\n",
              "                                 Pipeline(steps=[(&#x27;encoder&#x27;,\n",
              "                                                  OneHotEncoder(drop=&#x27;first&#x27;,\n",
              "                                                                handle_unknown=&#x27;ignore&#x27;,\n",
              "                                                                sparse=False))]),\n",
              "                                 Index([&#x27;contract&#x27;, &#x27;dependents&#x27;, &#x27;deviceprotection&#x27;, &#x27;gender&#x27;,\n",
              "       &#x27;internetservice&#x27;, &#x27;multiplelines&#x27;, &#x27;onlinebackup&#x27;, &#x27;onlinesecurity&#x27;,\n",
              "       &#x27;paperlessbilling&#x27;, &#x27;partner&#x27;, &#x27;paymentmethod&#x27;, &#x27;phoneservice&#x27;,\n",
              "       &#x27;streamingmovies&#x27;, &#x27;streamingtv&#x27;, &#x27;techsupport&#x27;],\n",
              "      dtype=&#x27;object&#x27;))])</pre></div></div></div><div class=\"sk-parallel\"><div class=\"sk-parallel-item\"><div class=\"sk-item\"><div class=\"sk-label-container\"><div class=\"sk-label sk-toggleable\"><input class=\"sk-toggleable__control sk-hidden--visually\" id=\"6d79fd23-0064-44f9-bf05-dc5781c5ae24\" type=\"checkbox\" ><label for=\"6d79fd23-0064-44f9-bf05-dc5781c5ae24\" class=\"sk-toggleable__label sk-toggleable__label-arrow\">num</label><div class=\"sk-toggleable__content\"><pre>Index([&#x27;seniorcitizen&#x27;, &#x27;tenure&#x27;, &#x27;monthlycharges&#x27;, &#x27;totalcharges&#x27;], dtype=&#x27;object&#x27;)</pre></div></div></div><div class=\"sk-serial\"><div class=\"sk-item\"><div class=\"sk-serial\"><div class=\"sk-item\"><div class=\"sk-estimator sk-toggleable\"><input class=\"sk-toggleable__control sk-hidden--visually\" id=\"b9814945-653e-421f-9073-a495402fa8f1\" type=\"checkbox\" ><label for=\"b9814945-653e-421f-9073-a495402fa8f1\" class=\"sk-toggleable__label sk-toggleable__label-arrow\">SimpleImputer</label><div class=\"sk-toggleable__content\"><pre>SimpleImputer()</pre></div></div></div><div class=\"sk-item\"><div class=\"sk-estimator sk-toggleable\"><input class=\"sk-toggleable__control sk-hidden--visually\" id=\"0c2fb7d2-058e-40c4-b997-890badb8f795\" type=\"checkbox\" ><label for=\"0c2fb7d2-058e-40c4-b997-890badb8f795\" class=\"sk-toggleable__label sk-toggleable__label-arrow\">StandardScaler</label><div class=\"sk-toggleable__content\"><pre>StandardScaler()</pre></div></div></div></div></div></div></div></div><div class=\"sk-parallel-item\"><div class=\"sk-item\"><div class=\"sk-label-container\"><div class=\"sk-label sk-toggleable\"><input class=\"sk-toggleable__control sk-hidden--visually\" id=\"059225df-5a6d-4f2b-b5e8-1160d2709fc4\" type=\"checkbox\" ><label for=\"059225df-5a6d-4f2b-b5e8-1160d2709fc4\" class=\"sk-toggleable__label sk-toggleable__label-arrow\">cat</label><div class=\"sk-toggleable__content\"><pre>Index([&#x27;contract&#x27;, &#x27;dependents&#x27;, &#x27;deviceprotection&#x27;, &#x27;gender&#x27;,\n",
              "       &#x27;internetservice&#x27;, &#x27;multiplelines&#x27;, &#x27;onlinebackup&#x27;, &#x27;onlinesecurity&#x27;,\n",
              "       &#x27;paperlessbilling&#x27;, &#x27;partner&#x27;, &#x27;paymentmethod&#x27;, &#x27;phoneservice&#x27;,\n",
              "       &#x27;streamingmovies&#x27;, &#x27;streamingtv&#x27;, &#x27;techsupport&#x27;],\n",
              "      dtype=&#x27;object&#x27;)</pre></div></div></div><div class=\"sk-serial\"><div class=\"sk-item\"><div class=\"sk-serial\"><div class=\"sk-item\"><div class=\"sk-estimator sk-toggleable\"><input class=\"sk-toggleable__control sk-hidden--visually\" id=\"7b3d7d7f-3cc1-4fc3-ae75-64d4ce840e6a\" type=\"checkbox\" ><label for=\"7b3d7d7f-3cc1-4fc3-ae75-64d4ce840e6a\" class=\"sk-toggleable__label sk-toggleable__label-arrow\">OneHotEncoder</label><div class=\"sk-toggleable__content\"><pre>OneHotEncoder(drop=&#x27;first&#x27;, handle_unknown=&#x27;ignore&#x27;, sparse=False)</pre></div></div></div></div></div></div></div></div></div></div><div class=\"sk-item\"><div class=\"sk-estimator sk-toggleable\"><input class=\"sk-toggleable__control sk-hidden--visually\" id=\"c5d968ab-841c-4688-a77f-58539b3534a4\" type=\"checkbox\" ><label for=\"c5d968ab-841c-4688-a77f-58539b3534a4\" class=\"sk-toggleable__label sk-toggleable__label-arrow\">DecisionTreeClassifier</label><div class=\"sk-toggleable__content\"><pre>DecisionTreeClassifier()</pre></div></div></div></div></div></div></div>"
            ]
          },
          "metadata": {},
          "execution_count": 215
        }
      ]
    },
    {
      "cell_type": "markdown",
      "source": [
        "### 2.4) Bosques aleatorios"
      ],
      "metadata": {
        "id": "do2muE_YMpav"
      }
    },
    {
      "cell_type": "code",
      "source": [
        "pipe4 = Pipeline([\n",
        "    ('preprocessors', preprocesadores),\n",
        "    ('model', RandomForestClassifier(random_state = 23343))\n",
        "])\n",
        "\n",
        "pipe4.fit(x_entrenamiento, y_entrenamiento)"
      ],
      "metadata": {
        "colab": {
          "base_uri": "https://localhost:8080/",
          "height": 227
        },
        "id": "ugA9OvC7E0JY",
        "outputId": "dc54cfdf-57c4-4e3a-ba85-58553e666248"
      },
      "execution_count": 216,
      "outputs": [
        {
          "output_type": "execute_result",
          "data": {
            "text/plain": [
              "Pipeline(steps=[('preprocessors',\n",
              "                 ColumnTransformer(transformers=[('num',\n",
              "                                                  Pipeline(steps=[('imputer',\n",
              "                                                                   SimpleImputer()),\n",
              "                                                                  ('scaler',\n",
              "                                                                   StandardScaler())]),\n",
              "                                                  Index(['seniorcitizen', 'tenure', 'monthlycharges', 'totalcharges'], dtype='object')),\n",
              "                                                 ('cat',\n",
              "                                                  Pipeline(steps=[('encoder',\n",
              "                                                                   OneHotEncoder(drop='first',\n",
              "                                                                                 handle_unknown='ignore',\n",
              "                                                                                 sparse=False))]),\n",
              "                                                  Index(['contract', 'dependents', 'deviceprotection', 'gender',\n",
              "       'internetservice', 'multiplelines', 'onlinebackup', 'onlinesecurity',\n",
              "       'paperlessbilling', 'partner', 'paymentmethod', 'phoneservice',\n",
              "       'streamingmovies', 'streamingtv', 'techsupport'],\n",
              "      dtype='object'))])),\n",
              "                ('model', RandomForestClassifier(random_state=23343))])"
            ],
            "text/html": [
              "<style>#sk-e6674d6f-ba23-4efe-a7cc-3ec078db2e40 {color: black;background-color: white;}#sk-e6674d6f-ba23-4efe-a7cc-3ec078db2e40 pre{padding: 0;}#sk-e6674d6f-ba23-4efe-a7cc-3ec078db2e40 div.sk-toggleable {background-color: white;}#sk-e6674d6f-ba23-4efe-a7cc-3ec078db2e40 label.sk-toggleable__label {cursor: pointer;display: block;width: 100%;margin-bottom: 0;padding: 0.3em;box-sizing: border-box;text-align: center;}#sk-e6674d6f-ba23-4efe-a7cc-3ec078db2e40 label.sk-toggleable__label-arrow:before {content: \"▸\";float: left;margin-right: 0.25em;color: #696969;}#sk-e6674d6f-ba23-4efe-a7cc-3ec078db2e40 label.sk-toggleable__label-arrow:hover:before {color: black;}#sk-e6674d6f-ba23-4efe-a7cc-3ec078db2e40 div.sk-estimator:hover label.sk-toggleable__label-arrow:before {color: black;}#sk-e6674d6f-ba23-4efe-a7cc-3ec078db2e40 div.sk-toggleable__content {max-height: 0;max-width: 0;overflow: hidden;text-align: left;background-color: #f0f8ff;}#sk-e6674d6f-ba23-4efe-a7cc-3ec078db2e40 div.sk-toggleable__content pre {margin: 0.2em;color: black;border-radius: 0.25em;background-color: #f0f8ff;}#sk-e6674d6f-ba23-4efe-a7cc-3ec078db2e40 input.sk-toggleable__control:checked~div.sk-toggleable__content {max-height: 200px;max-width: 100%;overflow: auto;}#sk-e6674d6f-ba23-4efe-a7cc-3ec078db2e40 input.sk-toggleable__control:checked~label.sk-toggleable__label-arrow:before {content: \"▾\";}#sk-e6674d6f-ba23-4efe-a7cc-3ec078db2e40 div.sk-estimator input.sk-toggleable__control:checked~label.sk-toggleable__label {background-color: #d4ebff;}#sk-e6674d6f-ba23-4efe-a7cc-3ec078db2e40 div.sk-label input.sk-toggleable__control:checked~label.sk-toggleable__label {background-color: #d4ebff;}#sk-e6674d6f-ba23-4efe-a7cc-3ec078db2e40 input.sk-hidden--visually {border: 0;clip: rect(1px 1px 1px 1px);clip: rect(1px, 1px, 1px, 1px);height: 1px;margin: -1px;overflow: hidden;padding: 0;position: absolute;width: 1px;}#sk-e6674d6f-ba23-4efe-a7cc-3ec078db2e40 div.sk-estimator {font-family: monospace;background-color: #f0f8ff;border: 1px dotted black;border-radius: 0.25em;box-sizing: border-box;margin-bottom: 0.5em;}#sk-e6674d6f-ba23-4efe-a7cc-3ec078db2e40 div.sk-estimator:hover {background-color: #d4ebff;}#sk-e6674d6f-ba23-4efe-a7cc-3ec078db2e40 div.sk-parallel-item::after {content: \"\";width: 100%;border-bottom: 1px solid gray;flex-grow: 1;}#sk-e6674d6f-ba23-4efe-a7cc-3ec078db2e40 div.sk-label:hover label.sk-toggleable__label {background-color: #d4ebff;}#sk-e6674d6f-ba23-4efe-a7cc-3ec078db2e40 div.sk-serial::before {content: \"\";position: absolute;border-left: 1px solid gray;box-sizing: border-box;top: 2em;bottom: 0;left: 50%;}#sk-e6674d6f-ba23-4efe-a7cc-3ec078db2e40 div.sk-serial {display: flex;flex-direction: column;align-items: center;background-color: white;padding-right: 0.2em;padding-left: 0.2em;}#sk-e6674d6f-ba23-4efe-a7cc-3ec078db2e40 div.sk-item {z-index: 1;}#sk-e6674d6f-ba23-4efe-a7cc-3ec078db2e40 div.sk-parallel {display: flex;align-items: stretch;justify-content: center;background-color: white;}#sk-e6674d6f-ba23-4efe-a7cc-3ec078db2e40 div.sk-parallel::before {content: \"\";position: absolute;border-left: 1px solid gray;box-sizing: border-box;top: 2em;bottom: 0;left: 50%;}#sk-e6674d6f-ba23-4efe-a7cc-3ec078db2e40 div.sk-parallel-item {display: flex;flex-direction: column;position: relative;background-color: white;}#sk-e6674d6f-ba23-4efe-a7cc-3ec078db2e40 div.sk-parallel-item:first-child::after {align-self: flex-end;width: 50%;}#sk-e6674d6f-ba23-4efe-a7cc-3ec078db2e40 div.sk-parallel-item:last-child::after {align-self: flex-start;width: 50%;}#sk-e6674d6f-ba23-4efe-a7cc-3ec078db2e40 div.sk-parallel-item:only-child::after {width: 0;}#sk-e6674d6f-ba23-4efe-a7cc-3ec078db2e40 div.sk-dashed-wrapped {border: 1px dashed gray;margin: 0 0.4em 0.5em 0.4em;box-sizing: border-box;padding-bottom: 0.4em;background-color: white;position: relative;}#sk-e6674d6f-ba23-4efe-a7cc-3ec078db2e40 div.sk-label label {font-family: monospace;font-weight: bold;background-color: white;display: inline-block;line-height: 1.2em;}#sk-e6674d6f-ba23-4efe-a7cc-3ec078db2e40 div.sk-label-container {position: relative;z-index: 2;text-align: center;}#sk-e6674d6f-ba23-4efe-a7cc-3ec078db2e40 div.sk-container {/* jupyter's `normalize.less` sets `[hidden] { display: none; }` but bootstrap.min.css set `[hidden] { display: none !important; }` so we also need the `!important` here to be able to override the default hidden behavior on the sphinx rendered scikit-learn.org. See: https://github.com/scikit-learn/scikit-learn/issues/21755 */display: inline-block !important;position: relative;}#sk-e6674d6f-ba23-4efe-a7cc-3ec078db2e40 div.sk-text-repr-fallback {display: none;}</style><div id=\"sk-e6674d6f-ba23-4efe-a7cc-3ec078db2e40\" class=\"sk-top-container\"><div class=\"sk-text-repr-fallback\"><pre>Pipeline(steps=[(&#x27;preprocessors&#x27;,\n",
              "                 ColumnTransformer(transformers=[(&#x27;num&#x27;,\n",
              "                                                  Pipeline(steps=[(&#x27;imputer&#x27;,\n",
              "                                                                   SimpleImputer()),\n",
              "                                                                  (&#x27;scaler&#x27;,\n",
              "                                                                   StandardScaler())]),\n",
              "                                                  Index([&#x27;seniorcitizen&#x27;, &#x27;tenure&#x27;, &#x27;monthlycharges&#x27;, &#x27;totalcharges&#x27;], dtype=&#x27;object&#x27;)),\n",
              "                                                 (&#x27;cat&#x27;,\n",
              "                                                  Pipeline(steps=[(&#x27;encoder&#x27;,\n",
              "                                                                   OneHotEncoder(drop=&#x27;first&#x27;,\n",
              "                                                                                 handle_unknown=&#x27;ignore&#x27;,\n",
              "                                                                                 sparse=False))]),\n",
              "                                                  Index([&#x27;contract&#x27;, &#x27;dependents&#x27;, &#x27;deviceprotection&#x27;, &#x27;gender&#x27;,\n",
              "       &#x27;internetservice&#x27;, &#x27;multiplelines&#x27;, &#x27;onlinebackup&#x27;, &#x27;onlinesecurity&#x27;,\n",
              "       &#x27;paperlessbilling&#x27;, &#x27;partner&#x27;, &#x27;paymentmethod&#x27;, &#x27;phoneservice&#x27;,\n",
              "       &#x27;streamingmovies&#x27;, &#x27;streamingtv&#x27;, &#x27;techsupport&#x27;],\n",
              "      dtype=&#x27;object&#x27;))])),\n",
              "                (&#x27;model&#x27;, RandomForestClassifier(random_state=23343))])</pre><b>Please rerun this cell to show the HTML repr or trust the notebook.</b></div><div class=\"sk-container\" hidden><div class=\"sk-item sk-dashed-wrapped\"><div class=\"sk-label-container\"><div class=\"sk-label sk-toggleable\"><input class=\"sk-toggleable__control sk-hidden--visually\" id=\"7f358f5d-68f5-4c8a-8b6e-4f418a230995\" type=\"checkbox\" ><label for=\"7f358f5d-68f5-4c8a-8b6e-4f418a230995\" class=\"sk-toggleable__label sk-toggleable__label-arrow\">Pipeline</label><div class=\"sk-toggleable__content\"><pre>Pipeline(steps=[(&#x27;preprocessors&#x27;,\n",
              "                 ColumnTransformer(transformers=[(&#x27;num&#x27;,\n",
              "                                                  Pipeline(steps=[(&#x27;imputer&#x27;,\n",
              "                                                                   SimpleImputer()),\n",
              "                                                                  (&#x27;scaler&#x27;,\n",
              "                                                                   StandardScaler())]),\n",
              "                                                  Index([&#x27;seniorcitizen&#x27;, &#x27;tenure&#x27;, &#x27;monthlycharges&#x27;, &#x27;totalcharges&#x27;], dtype=&#x27;object&#x27;)),\n",
              "                                                 (&#x27;cat&#x27;,\n",
              "                                                  Pipeline(steps=[(&#x27;encoder&#x27;,\n",
              "                                                                   OneHotEncoder(drop=&#x27;first&#x27;,\n",
              "                                                                                 handle_unknown=&#x27;ignore&#x27;,\n",
              "                                                                                 sparse=False))]),\n",
              "                                                  Index([&#x27;contract&#x27;, &#x27;dependents&#x27;, &#x27;deviceprotection&#x27;, &#x27;gender&#x27;,\n",
              "       &#x27;internetservice&#x27;, &#x27;multiplelines&#x27;, &#x27;onlinebackup&#x27;, &#x27;onlinesecurity&#x27;,\n",
              "       &#x27;paperlessbilling&#x27;, &#x27;partner&#x27;, &#x27;paymentmethod&#x27;, &#x27;phoneservice&#x27;,\n",
              "       &#x27;streamingmovies&#x27;, &#x27;streamingtv&#x27;, &#x27;techsupport&#x27;],\n",
              "      dtype=&#x27;object&#x27;))])),\n",
              "                (&#x27;model&#x27;, RandomForestClassifier(random_state=23343))])</pre></div></div></div><div class=\"sk-serial\"><div class=\"sk-item sk-dashed-wrapped\"><div class=\"sk-label-container\"><div class=\"sk-label sk-toggleable\"><input class=\"sk-toggleable__control sk-hidden--visually\" id=\"a0f98df4-bb59-46ce-9eb1-aed8850ae618\" type=\"checkbox\" ><label for=\"a0f98df4-bb59-46ce-9eb1-aed8850ae618\" class=\"sk-toggleable__label sk-toggleable__label-arrow\">preprocessors: ColumnTransformer</label><div class=\"sk-toggleable__content\"><pre>ColumnTransformer(transformers=[(&#x27;num&#x27;,\n",
              "                                 Pipeline(steps=[(&#x27;imputer&#x27;, SimpleImputer()),\n",
              "                                                 (&#x27;scaler&#x27;, StandardScaler())]),\n",
              "                                 Index([&#x27;seniorcitizen&#x27;, &#x27;tenure&#x27;, &#x27;monthlycharges&#x27;, &#x27;totalcharges&#x27;], dtype=&#x27;object&#x27;)),\n",
              "                                (&#x27;cat&#x27;,\n",
              "                                 Pipeline(steps=[(&#x27;encoder&#x27;,\n",
              "                                                  OneHotEncoder(drop=&#x27;first&#x27;,\n",
              "                                                                handle_unknown=&#x27;ignore&#x27;,\n",
              "                                                                sparse=False))]),\n",
              "                                 Index([&#x27;contract&#x27;, &#x27;dependents&#x27;, &#x27;deviceprotection&#x27;, &#x27;gender&#x27;,\n",
              "       &#x27;internetservice&#x27;, &#x27;multiplelines&#x27;, &#x27;onlinebackup&#x27;, &#x27;onlinesecurity&#x27;,\n",
              "       &#x27;paperlessbilling&#x27;, &#x27;partner&#x27;, &#x27;paymentmethod&#x27;, &#x27;phoneservice&#x27;,\n",
              "       &#x27;streamingmovies&#x27;, &#x27;streamingtv&#x27;, &#x27;techsupport&#x27;],\n",
              "      dtype=&#x27;object&#x27;))])</pre></div></div></div><div class=\"sk-parallel\"><div class=\"sk-parallel-item\"><div class=\"sk-item\"><div class=\"sk-label-container\"><div class=\"sk-label sk-toggleable\"><input class=\"sk-toggleable__control sk-hidden--visually\" id=\"8b6291c9-1715-4632-984f-2eacff8eb763\" type=\"checkbox\" ><label for=\"8b6291c9-1715-4632-984f-2eacff8eb763\" class=\"sk-toggleable__label sk-toggleable__label-arrow\">num</label><div class=\"sk-toggleable__content\"><pre>Index([&#x27;seniorcitizen&#x27;, &#x27;tenure&#x27;, &#x27;monthlycharges&#x27;, &#x27;totalcharges&#x27;], dtype=&#x27;object&#x27;)</pre></div></div></div><div class=\"sk-serial\"><div class=\"sk-item\"><div class=\"sk-serial\"><div class=\"sk-item\"><div class=\"sk-estimator sk-toggleable\"><input class=\"sk-toggleable__control sk-hidden--visually\" id=\"b2db2185-f876-4402-b1d8-3a6b8e1f59e4\" type=\"checkbox\" ><label for=\"b2db2185-f876-4402-b1d8-3a6b8e1f59e4\" class=\"sk-toggleable__label sk-toggleable__label-arrow\">SimpleImputer</label><div class=\"sk-toggleable__content\"><pre>SimpleImputer()</pre></div></div></div><div class=\"sk-item\"><div class=\"sk-estimator sk-toggleable\"><input class=\"sk-toggleable__control sk-hidden--visually\" id=\"e376c4d2-36b2-43ec-8b92-b9142ec71134\" type=\"checkbox\" ><label for=\"e376c4d2-36b2-43ec-8b92-b9142ec71134\" class=\"sk-toggleable__label sk-toggleable__label-arrow\">StandardScaler</label><div class=\"sk-toggleable__content\"><pre>StandardScaler()</pre></div></div></div></div></div></div></div></div><div class=\"sk-parallel-item\"><div class=\"sk-item\"><div class=\"sk-label-container\"><div class=\"sk-label sk-toggleable\"><input class=\"sk-toggleable__control sk-hidden--visually\" id=\"02846107-bb83-44a6-b5f8-1685c86f8093\" type=\"checkbox\" ><label for=\"02846107-bb83-44a6-b5f8-1685c86f8093\" class=\"sk-toggleable__label sk-toggleable__label-arrow\">cat</label><div class=\"sk-toggleable__content\"><pre>Index([&#x27;contract&#x27;, &#x27;dependents&#x27;, &#x27;deviceprotection&#x27;, &#x27;gender&#x27;,\n",
              "       &#x27;internetservice&#x27;, &#x27;multiplelines&#x27;, &#x27;onlinebackup&#x27;, &#x27;onlinesecurity&#x27;,\n",
              "       &#x27;paperlessbilling&#x27;, &#x27;partner&#x27;, &#x27;paymentmethod&#x27;, &#x27;phoneservice&#x27;,\n",
              "       &#x27;streamingmovies&#x27;, &#x27;streamingtv&#x27;, &#x27;techsupport&#x27;],\n",
              "      dtype=&#x27;object&#x27;)</pre></div></div></div><div class=\"sk-serial\"><div class=\"sk-item\"><div class=\"sk-serial\"><div class=\"sk-item\"><div class=\"sk-estimator sk-toggleable\"><input class=\"sk-toggleable__control sk-hidden--visually\" id=\"264aebbd-4cab-489b-a0c8-14d8e6038127\" type=\"checkbox\" ><label for=\"264aebbd-4cab-489b-a0c8-14d8e6038127\" class=\"sk-toggleable__label sk-toggleable__label-arrow\">OneHotEncoder</label><div class=\"sk-toggleable__content\"><pre>OneHotEncoder(drop=&#x27;first&#x27;, handle_unknown=&#x27;ignore&#x27;, sparse=False)</pre></div></div></div></div></div></div></div></div></div></div><div class=\"sk-item\"><div class=\"sk-estimator sk-toggleable\"><input class=\"sk-toggleable__control sk-hidden--visually\" id=\"3e827e75-bbb7-4cba-9aef-2541c12388ee\" type=\"checkbox\" ><label for=\"3e827e75-bbb7-4cba-9aef-2541c12388ee\" class=\"sk-toggleable__label sk-toggleable__label-arrow\">RandomForestClassifier</label><div class=\"sk-toggleable__content\"><pre>RandomForestClassifier(random_state=23343)</pre></div></div></div></div></div></div></div>"
            ]
          },
          "metadata": {},
          "execution_count": 216
        }
      ]
    },
    {
      "cell_type": "markdown",
      "source": [
        "### 2.5) Red neuronal"
      ],
      "metadata": {
        "id": "chAYExJUYJwa"
      }
    },
    {
      "cell_type": "code",
      "source": [
        "pipe5 = Pipeline([\n",
        "    ('preprocessors', preprocesadores),\n",
        "    ('model', MLPClassifier())\n",
        "])\n",
        "\n",
        "pipe5.fit(x_entrenamiento, y_entrenamiento)"
      ],
      "metadata": {
        "colab": {
          "base_uri": "https://localhost:8080/",
          "height": 227
        },
        "id": "8tIDbGi6YLpI",
        "outputId": "1e86ce2c-5c7f-4e45-ce5c-a07f05502dcd"
      },
      "execution_count": 217,
      "outputs": [
        {
          "output_type": "execute_result",
          "data": {
            "text/plain": [
              "Pipeline(steps=[('preprocessors',\n",
              "                 ColumnTransformer(transformers=[('num',\n",
              "                                                  Pipeline(steps=[('imputer',\n",
              "                                                                   SimpleImputer()),\n",
              "                                                                  ('scaler',\n",
              "                                                                   StandardScaler())]),\n",
              "                                                  Index(['seniorcitizen', 'tenure', 'monthlycharges', 'totalcharges'], dtype='object')),\n",
              "                                                 ('cat',\n",
              "                                                  Pipeline(steps=[('encoder',\n",
              "                                                                   OneHotEncoder(drop='first',\n",
              "                                                                                 handle_unknown='ignore',\n",
              "                                                                                 sparse=False))]),\n",
              "                                                  Index(['contract', 'dependents', 'deviceprotection', 'gender',\n",
              "       'internetservice', 'multiplelines', 'onlinebackup', 'onlinesecurity',\n",
              "       'paperlessbilling', 'partner', 'paymentmethod', 'phoneservice',\n",
              "       'streamingmovies', 'streamingtv', 'techsupport'],\n",
              "      dtype='object'))])),\n",
              "                ('model', MLPClassifier())])"
            ],
            "text/html": [
              "<style>#sk-ba4ea098-90b0-41cd-a714-088a211fc290 {color: black;background-color: white;}#sk-ba4ea098-90b0-41cd-a714-088a211fc290 pre{padding: 0;}#sk-ba4ea098-90b0-41cd-a714-088a211fc290 div.sk-toggleable {background-color: white;}#sk-ba4ea098-90b0-41cd-a714-088a211fc290 label.sk-toggleable__label {cursor: pointer;display: block;width: 100%;margin-bottom: 0;padding: 0.3em;box-sizing: border-box;text-align: center;}#sk-ba4ea098-90b0-41cd-a714-088a211fc290 label.sk-toggleable__label-arrow:before {content: \"▸\";float: left;margin-right: 0.25em;color: #696969;}#sk-ba4ea098-90b0-41cd-a714-088a211fc290 label.sk-toggleable__label-arrow:hover:before {color: black;}#sk-ba4ea098-90b0-41cd-a714-088a211fc290 div.sk-estimator:hover label.sk-toggleable__label-arrow:before {color: black;}#sk-ba4ea098-90b0-41cd-a714-088a211fc290 div.sk-toggleable__content {max-height: 0;max-width: 0;overflow: hidden;text-align: left;background-color: #f0f8ff;}#sk-ba4ea098-90b0-41cd-a714-088a211fc290 div.sk-toggleable__content pre {margin: 0.2em;color: black;border-radius: 0.25em;background-color: #f0f8ff;}#sk-ba4ea098-90b0-41cd-a714-088a211fc290 input.sk-toggleable__control:checked~div.sk-toggleable__content {max-height: 200px;max-width: 100%;overflow: auto;}#sk-ba4ea098-90b0-41cd-a714-088a211fc290 input.sk-toggleable__control:checked~label.sk-toggleable__label-arrow:before {content: \"▾\";}#sk-ba4ea098-90b0-41cd-a714-088a211fc290 div.sk-estimator input.sk-toggleable__control:checked~label.sk-toggleable__label {background-color: #d4ebff;}#sk-ba4ea098-90b0-41cd-a714-088a211fc290 div.sk-label input.sk-toggleable__control:checked~label.sk-toggleable__label {background-color: #d4ebff;}#sk-ba4ea098-90b0-41cd-a714-088a211fc290 input.sk-hidden--visually {border: 0;clip: rect(1px 1px 1px 1px);clip: rect(1px, 1px, 1px, 1px);height: 1px;margin: -1px;overflow: hidden;padding: 0;position: absolute;width: 1px;}#sk-ba4ea098-90b0-41cd-a714-088a211fc290 div.sk-estimator {font-family: monospace;background-color: #f0f8ff;border: 1px dotted black;border-radius: 0.25em;box-sizing: border-box;margin-bottom: 0.5em;}#sk-ba4ea098-90b0-41cd-a714-088a211fc290 div.sk-estimator:hover {background-color: #d4ebff;}#sk-ba4ea098-90b0-41cd-a714-088a211fc290 div.sk-parallel-item::after {content: \"\";width: 100%;border-bottom: 1px solid gray;flex-grow: 1;}#sk-ba4ea098-90b0-41cd-a714-088a211fc290 div.sk-label:hover label.sk-toggleable__label {background-color: #d4ebff;}#sk-ba4ea098-90b0-41cd-a714-088a211fc290 div.sk-serial::before {content: \"\";position: absolute;border-left: 1px solid gray;box-sizing: border-box;top: 2em;bottom: 0;left: 50%;}#sk-ba4ea098-90b0-41cd-a714-088a211fc290 div.sk-serial {display: flex;flex-direction: column;align-items: center;background-color: white;padding-right: 0.2em;padding-left: 0.2em;}#sk-ba4ea098-90b0-41cd-a714-088a211fc290 div.sk-item {z-index: 1;}#sk-ba4ea098-90b0-41cd-a714-088a211fc290 div.sk-parallel {display: flex;align-items: stretch;justify-content: center;background-color: white;}#sk-ba4ea098-90b0-41cd-a714-088a211fc290 div.sk-parallel::before {content: \"\";position: absolute;border-left: 1px solid gray;box-sizing: border-box;top: 2em;bottom: 0;left: 50%;}#sk-ba4ea098-90b0-41cd-a714-088a211fc290 div.sk-parallel-item {display: flex;flex-direction: column;position: relative;background-color: white;}#sk-ba4ea098-90b0-41cd-a714-088a211fc290 div.sk-parallel-item:first-child::after {align-self: flex-end;width: 50%;}#sk-ba4ea098-90b0-41cd-a714-088a211fc290 div.sk-parallel-item:last-child::after {align-self: flex-start;width: 50%;}#sk-ba4ea098-90b0-41cd-a714-088a211fc290 div.sk-parallel-item:only-child::after {width: 0;}#sk-ba4ea098-90b0-41cd-a714-088a211fc290 div.sk-dashed-wrapped {border: 1px dashed gray;margin: 0 0.4em 0.5em 0.4em;box-sizing: border-box;padding-bottom: 0.4em;background-color: white;position: relative;}#sk-ba4ea098-90b0-41cd-a714-088a211fc290 div.sk-label label {font-family: monospace;font-weight: bold;background-color: white;display: inline-block;line-height: 1.2em;}#sk-ba4ea098-90b0-41cd-a714-088a211fc290 div.sk-label-container {position: relative;z-index: 2;text-align: center;}#sk-ba4ea098-90b0-41cd-a714-088a211fc290 div.sk-container {/* jupyter's `normalize.less` sets `[hidden] { display: none; }` but bootstrap.min.css set `[hidden] { display: none !important; }` so we also need the `!important` here to be able to override the default hidden behavior on the sphinx rendered scikit-learn.org. See: https://github.com/scikit-learn/scikit-learn/issues/21755 */display: inline-block !important;position: relative;}#sk-ba4ea098-90b0-41cd-a714-088a211fc290 div.sk-text-repr-fallback {display: none;}</style><div id=\"sk-ba4ea098-90b0-41cd-a714-088a211fc290\" class=\"sk-top-container\"><div class=\"sk-text-repr-fallback\"><pre>Pipeline(steps=[(&#x27;preprocessors&#x27;,\n",
              "                 ColumnTransformer(transformers=[(&#x27;num&#x27;,\n",
              "                                                  Pipeline(steps=[(&#x27;imputer&#x27;,\n",
              "                                                                   SimpleImputer()),\n",
              "                                                                  (&#x27;scaler&#x27;,\n",
              "                                                                   StandardScaler())]),\n",
              "                                                  Index([&#x27;seniorcitizen&#x27;, &#x27;tenure&#x27;, &#x27;monthlycharges&#x27;, &#x27;totalcharges&#x27;], dtype=&#x27;object&#x27;)),\n",
              "                                                 (&#x27;cat&#x27;,\n",
              "                                                  Pipeline(steps=[(&#x27;encoder&#x27;,\n",
              "                                                                   OneHotEncoder(drop=&#x27;first&#x27;,\n",
              "                                                                                 handle_unknown=&#x27;ignore&#x27;,\n",
              "                                                                                 sparse=False))]),\n",
              "                                                  Index([&#x27;contract&#x27;, &#x27;dependents&#x27;, &#x27;deviceprotection&#x27;, &#x27;gender&#x27;,\n",
              "       &#x27;internetservice&#x27;, &#x27;multiplelines&#x27;, &#x27;onlinebackup&#x27;, &#x27;onlinesecurity&#x27;,\n",
              "       &#x27;paperlessbilling&#x27;, &#x27;partner&#x27;, &#x27;paymentmethod&#x27;, &#x27;phoneservice&#x27;,\n",
              "       &#x27;streamingmovies&#x27;, &#x27;streamingtv&#x27;, &#x27;techsupport&#x27;],\n",
              "      dtype=&#x27;object&#x27;))])),\n",
              "                (&#x27;model&#x27;, MLPClassifier())])</pre><b>Please rerun this cell to show the HTML repr or trust the notebook.</b></div><div class=\"sk-container\" hidden><div class=\"sk-item sk-dashed-wrapped\"><div class=\"sk-label-container\"><div class=\"sk-label sk-toggleable\"><input class=\"sk-toggleable__control sk-hidden--visually\" id=\"6d4e485d-0182-4634-a585-ff2b931c3e74\" type=\"checkbox\" ><label for=\"6d4e485d-0182-4634-a585-ff2b931c3e74\" class=\"sk-toggleable__label sk-toggleable__label-arrow\">Pipeline</label><div class=\"sk-toggleable__content\"><pre>Pipeline(steps=[(&#x27;preprocessors&#x27;,\n",
              "                 ColumnTransformer(transformers=[(&#x27;num&#x27;,\n",
              "                                                  Pipeline(steps=[(&#x27;imputer&#x27;,\n",
              "                                                                   SimpleImputer()),\n",
              "                                                                  (&#x27;scaler&#x27;,\n",
              "                                                                   StandardScaler())]),\n",
              "                                                  Index([&#x27;seniorcitizen&#x27;, &#x27;tenure&#x27;, &#x27;monthlycharges&#x27;, &#x27;totalcharges&#x27;], dtype=&#x27;object&#x27;)),\n",
              "                                                 (&#x27;cat&#x27;,\n",
              "                                                  Pipeline(steps=[(&#x27;encoder&#x27;,\n",
              "                                                                   OneHotEncoder(drop=&#x27;first&#x27;,\n",
              "                                                                                 handle_unknown=&#x27;ignore&#x27;,\n",
              "                                                                                 sparse=False))]),\n",
              "                                                  Index([&#x27;contract&#x27;, &#x27;dependents&#x27;, &#x27;deviceprotection&#x27;, &#x27;gender&#x27;,\n",
              "       &#x27;internetservice&#x27;, &#x27;multiplelines&#x27;, &#x27;onlinebackup&#x27;, &#x27;onlinesecurity&#x27;,\n",
              "       &#x27;paperlessbilling&#x27;, &#x27;partner&#x27;, &#x27;paymentmethod&#x27;, &#x27;phoneservice&#x27;,\n",
              "       &#x27;streamingmovies&#x27;, &#x27;streamingtv&#x27;, &#x27;techsupport&#x27;],\n",
              "      dtype=&#x27;object&#x27;))])),\n",
              "                (&#x27;model&#x27;, MLPClassifier())])</pre></div></div></div><div class=\"sk-serial\"><div class=\"sk-item sk-dashed-wrapped\"><div class=\"sk-label-container\"><div class=\"sk-label sk-toggleable\"><input class=\"sk-toggleable__control sk-hidden--visually\" id=\"1c62a020-125a-4c46-93f6-e444fcce6c7b\" type=\"checkbox\" ><label for=\"1c62a020-125a-4c46-93f6-e444fcce6c7b\" class=\"sk-toggleable__label sk-toggleable__label-arrow\">preprocessors: ColumnTransformer</label><div class=\"sk-toggleable__content\"><pre>ColumnTransformer(transformers=[(&#x27;num&#x27;,\n",
              "                                 Pipeline(steps=[(&#x27;imputer&#x27;, SimpleImputer()),\n",
              "                                                 (&#x27;scaler&#x27;, StandardScaler())]),\n",
              "                                 Index([&#x27;seniorcitizen&#x27;, &#x27;tenure&#x27;, &#x27;monthlycharges&#x27;, &#x27;totalcharges&#x27;], dtype=&#x27;object&#x27;)),\n",
              "                                (&#x27;cat&#x27;,\n",
              "                                 Pipeline(steps=[(&#x27;encoder&#x27;,\n",
              "                                                  OneHotEncoder(drop=&#x27;first&#x27;,\n",
              "                                                                handle_unknown=&#x27;ignore&#x27;,\n",
              "                                                                sparse=False))]),\n",
              "                                 Index([&#x27;contract&#x27;, &#x27;dependents&#x27;, &#x27;deviceprotection&#x27;, &#x27;gender&#x27;,\n",
              "       &#x27;internetservice&#x27;, &#x27;multiplelines&#x27;, &#x27;onlinebackup&#x27;, &#x27;onlinesecurity&#x27;,\n",
              "       &#x27;paperlessbilling&#x27;, &#x27;partner&#x27;, &#x27;paymentmethod&#x27;, &#x27;phoneservice&#x27;,\n",
              "       &#x27;streamingmovies&#x27;, &#x27;streamingtv&#x27;, &#x27;techsupport&#x27;],\n",
              "      dtype=&#x27;object&#x27;))])</pre></div></div></div><div class=\"sk-parallel\"><div class=\"sk-parallel-item\"><div class=\"sk-item\"><div class=\"sk-label-container\"><div class=\"sk-label sk-toggleable\"><input class=\"sk-toggleable__control sk-hidden--visually\" id=\"df22371f-5093-4295-bf64-138da1239f4f\" type=\"checkbox\" ><label for=\"df22371f-5093-4295-bf64-138da1239f4f\" class=\"sk-toggleable__label sk-toggleable__label-arrow\">num</label><div class=\"sk-toggleable__content\"><pre>Index([&#x27;seniorcitizen&#x27;, &#x27;tenure&#x27;, &#x27;monthlycharges&#x27;, &#x27;totalcharges&#x27;], dtype=&#x27;object&#x27;)</pre></div></div></div><div class=\"sk-serial\"><div class=\"sk-item\"><div class=\"sk-serial\"><div class=\"sk-item\"><div class=\"sk-estimator sk-toggleable\"><input class=\"sk-toggleable__control sk-hidden--visually\" id=\"d9c16be6-6839-4637-9efe-0dc2d7aae8c3\" type=\"checkbox\" ><label for=\"d9c16be6-6839-4637-9efe-0dc2d7aae8c3\" class=\"sk-toggleable__label sk-toggleable__label-arrow\">SimpleImputer</label><div class=\"sk-toggleable__content\"><pre>SimpleImputer()</pre></div></div></div><div class=\"sk-item\"><div class=\"sk-estimator sk-toggleable\"><input class=\"sk-toggleable__control sk-hidden--visually\" id=\"dcdfdb76-cb8c-42c5-8c9b-2971bb605c6c\" type=\"checkbox\" ><label for=\"dcdfdb76-cb8c-42c5-8c9b-2971bb605c6c\" class=\"sk-toggleable__label sk-toggleable__label-arrow\">StandardScaler</label><div class=\"sk-toggleable__content\"><pre>StandardScaler()</pre></div></div></div></div></div></div></div></div><div class=\"sk-parallel-item\"><div class=\"sk-item\"><div class=\"sk-label-container\"><div class=\"sk-label sk-toggleable\"><input class=\"sk-toggleable__control sk-hidden--visually\" id=\"2341fd49-3853-4c8c-9725-7b5824f4e43e\" type=\"checkbox\" ><label for=\"2341fd49-3853-4c8c-9725-7b5824f4e43e\" class=\"sk-toggleable__label sk-toggleable__label-arrow\">cat</label><div class=\"sk-toggleable__content\"><pre>Index([&#x27;contract&#x27;, &#x27;dependents&#x27;, &#x27;deviceprotection&#x27;, &#x27;gender&#x27;,\n",
              "       &#x27;internetservice&#x27;, &#x27;multiplelines&#x27;, &#x27;onlinebackup&#x27;, &#x27;onlinesecurity&#x27;,\n",
              "       &#x27;paperlessbilling&#x27;, &#x27;partner&#x27;, &#x27;paymentmethod&#x27;, &#x27;phoneservice&#x27;,\n",
              "       &#x27;streamingmovies&#x27;, &#x27;streamingtv&#x27;, &#x27;techsupport&#x27;],\n",
              "      dtype=&#x27;object&#x27;)</pre></div></div></div><div class=\"sk-serial\"><div class=\"sk-item\"><div class=\"sk-serial\"><div class=\"sk-item\"><div class=\"sk-estimator sk-toggleable\"><input class=\"sk-toggleable__control sk-hidden--visually\" id=\"6cc4c6e7-a7c1-4607-9563-294769897af5\" type=\"checkbox\" ><label for=\"6cc4c6e7-a7c1-4607-9563-294769897af5\" class=\"sk-toggleable__label sk-toggleable__label-arrow\">OneHotEncoder</label><div class=\"sk-toggleable__content\"><pre>OneHotEncoder(drop=&#x27;first&#x27;, handle_unknown=&#x27;ignore&#x27;, sparse=False)</pre></div></div></div></div></div></div></div></div></div></div><div class=\"sk-item\"><div class=\"sk-estimator sk-toggleable\"><input class=\"sk-toggleable__control sk-hidden--visually\" id=\"ab3af96b-f789-4906-9ce1-d4cef2500a9f\" type=\"checkbox\" ><label for=\"ab3af96b-f789-4906-9ce1-d4cef2500a9f\" class=\"sk-toggleable__label sk-toggleable__label-arrow\">MLPClassifier</label><div class=\"sk-toggleable__content\"><pre>MLPClassifier()</pre></div></div></div></div></div></div></div>"
            ]
          },
          "metadata": {},
          "execution_count": 217
        }
      ]
    }
  ]
}